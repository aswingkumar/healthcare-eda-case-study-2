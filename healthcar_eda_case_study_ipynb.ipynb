{
  "metadata": {
    "kernelspec": {
      "language": "python",
      "display_name": "Python 3",
      "name": "python3"
    },
    "language_info": {
      "name": "python",
      "version": "3.10.13",
      "mimetype": "text/x-python",
      "codemirror_mode": {
        "name": "ipython",
        "version": 3
      },
      "pygments_lexer": "ipython3",
      "nbconvert_exporter": "python",
      "file_extension": ".py"
    },
    "kaggle": {
      "accelerator": "none",
      "dataSources": [
        {
          "sourceId": 52784,
          "databundleVersionId": 5687476,
          "sourceType": "competition"
        }
      ],
      "dockerImageVersionId": 30664,
      "isInternetEnabled": true,
      "language": "python",
      "sourceType": "notebook",
      "isGpuEnabled": false
    },
    "colab": {
      "provenance": []
    }
  },
  "nbformat_minor": 0,
  "nbformat": 4,
  "cells": [
    {
      "cell_type": "markdown",
      "source": [
        "# Step 1: Import The key Libraries"
      ],
      "metadata": {
        "id": "n8OM8BoyfbFm"
      }
    },
    {
      "cell_type": "code",
      "source": [
        "# This Python 3 environment comes with many helpful analytics libraries installed\n",
        "# It is defined by the kaggle/python Docker image: https://github.com/kaggle/docker-python\n",
        "# For example, here's several helpful packages to load\n",
        "\n",
        "import numpy as np # linear algebra\n",
        "import pandas as pd # data processing, CSV file I/O (e.g. pd.read_csv)\n",
        "\n",
        "# Input data files are available in the read-only \"../input/\" directory\n",
        "# For example, running this (by clicking run or pressing Shift+Enter) will list all files under the input directory\n",
        "\n",
        "import os\n",
        "for dirname, _, filenames in os.walk('/kaggle/input'):\n",
        "    for filename in filenames:\n",
        "        print(os.path.join(dirname, filename))\n",
        "\n",
        "# You can write up to 20GB to the current directory (/kaggle/working/) that gets preserved as output when you create a version using \"Save & Run All\"\n",
        "# You can also write temporary files to /kaggle/temp/, but they won't be saved outside of the current session"
      ],
      "metadata": {
        "_uuid": "8f2839f25d086af736a60e9eeb907d3b93b6e0e5",
        "_cell_guid": "b1076dfc-b9ad-4769-8c92-a6c4dae69d19",
        "execution": {
          "iopub.status.busy": "2024-03-25T11:20:24.861812Z",
          "iopub.execute_input": "2024-03-25T11:20:24.862125Z",
          "iopub.status.idle": "2024-03-25T11:20:25.780476Z",
          "shell.execute_reply.started": "2024-03-25T11:20:24.862098Z",
          "shell.execute_reply": "2024-03-25T11:20:25.779530Z"
        },
        "trusted": true,
        "id": "OPZVW36TfbFn",
        "outputId": "45cc138b-4212-44f7-8fbf-86f7e72ed018"
      },
      "execution_count": null,
      "outputs": [
        {
          "name": "stdout",
          "text": "/kaggle/input/icr-identify-age-related-conditions/sample_submission.csv\n/kaggle/input/icr-identify-age-related-conditions/greeks.csv\n/kaggle/input/icr-identify-age-related-conditions/train.csv\n/kaggle/input/icr-identify-age-related-conditions/test.csv\n",
          "output_type": "stream"
        }
      ]
    },
    {
      "cell_type": "code",
      "source": [
        "import seaborn as sns\n",
        "import matplotlib.pyplot as plt\n",
        "%matplotlib inline"
      ],
      "metadata": {
        "execution": {
          "iopub.status.busy": "2024-03-25T11:20:25.782056Z",
          "iopub.execute_input": "2024-03-25T11:20:25.782418Z",
          "iopub.status.idle": "2024-03-25T11:20:26.946579Z",
          "shell.execute_reply.started": "2024-03-25T11:20:25.782392Z",
          "shell.execute_reply": "2024-03-25T11:20:26.945657Z"
        },
        "trusted": true,
        "id": "won6k3dxfbFp"
      },
      "execution_count": null,
      "outputs": []
    },
    {
      "cell_type": "markdown",
      "source": [
        "# Step 2: Read the DataSet"
      ],
      "metadata": {
        "id": "ArXOImvAfbFq"
      }
    },
    {
      "cell_type": "code",
      "source": [
        "dataset_df = pd.read_csv('/kaggle/input/icr-identify-age-related-conditions/train.csv')\n",
        "print(\"Full train dataset shape is {}\".format(dataset_df.shape))"
      ],
      "metadata": {
        "execution": {
          "iopub.status.busy": "2024-03-25T11:20:26.947722Z",
          "iopub.execute_input": "2024-03-25T11:20:26.948103Z",
          "iopub.status.idle": "2024-03-25T11:20:26.979308Z",
          "shell.execute_reply.started": "2024-03-25T11:20:26.948078Z",
          "shell.execute_reply": "2024-03-25T11:20:26.978372Z"
        },
        "trusted": true,
        "id": "9a8eCTz8fbFq",
        "outputId": "486a9630-8aa4-48fa-c02c-39b602e65810"
      },
      "execution_count": null,
      "outputs": [
        {
          "name": "stdout",
          "text": "Full train dataset shape is (617, 58)\n",
          "output_type": "stream"
        }
      ]
    },
    {
      "cell_type": "markdown",
      "source": [
        "# Step 3. Basic Data View / Exploration"
      ],
      "metadata": {
        "id": "q3uteVLgfbFr"
      }
    },
    {
      "cell_type": "code",
      "source": [
        "dataset_df.info()"
      ],
      "metadata": {
        "execution": {
          "iopub.status.busy": "2024-03-25T11:20:26.982186Z",
          "iopub.execute_input": "2024-03-25T11:20:26.982751Z",
          "iopub.status.idle": "2024-03-25T11:20:27.009262Z",
          "shell.execute_reply.started": "2024-03-25T11:20:26.982715Z",
          "shell.execute_reply": "2024-03-25T11:20:27.008362Z"
        },
        "trusted": true,
        "id": "BeszpmnRfbFr",
        "outputId": "669b20db-b75b-4393-bd53-3fd926dd01e1"
      },
      "execution_count": null,
      "outputs": [
        {
          "name": "stdout",
          "text": "<class 'pandas.core.frame.DataFrame'>\nRangeIndex: 617 entries, 0 to 616\nData columns (total 58 columns):\n #   Column  Non-Null Count  Dtype  \n---  ------  --------------  -----  \n 0   Id      617 non-null    object \n 1   AB      617 non-null    float64\n 2   AF      617 non-null    float64\n 3   AH      617 non-null    float64\n 4   AM      617 non-null    float64\n 5   AR      617 non-null    float64\n 6   AX      617 non-null    float64\n 7   AY      617 non-null    float64\n 8   AZ      617 non-null    float64\n 9   BC      617 non-null    float64\n 10  BD      617 non-null    float64\n 11  BN      617 non-null    float64\n 12  BP      617 non-null    float64\n 13  BQ      557 non-null    float64\n 14  BR      617 non-null    float64\n 15  BZ      617 non-null    float64\n 16  CB      615 non-null    float64\n 17  CC      614 non-null    float64\n 18  CD      617 non-null    float64\n 19  CF      617 non-null    float64\n 20  CH      617 non-null    float64\n 21  CL      617 non-null    float64\n 22  CR      617 non-null    float64\n 23  CS      617 non-null    float64\n 24  CU      617 non-null    float64\n 25  CW      617 non-null    float64\n 26  DA      617 non-null    float64\n 27  DE      617 non-null    float64\n 28  DF      617 non-null    float64\n 29  DH      617 non-null    float64\n 30  DI      617 non-null    float64\n 31  DL      617 non-null    float64\n 32  DN      617 non-null    float64\n 33  DU      616 non-null    float64\n 34  DV      617 non-null    float64\n 35  DY      617 non-null    float64\n 36  EB      617 non-null    float64\n 37  EE      617 non-null    float64\n 38  EG      617 non-null    float64\n 39  EH      617 non-null    float64\n 40  EJ      617 non-null    object \n 41  EL      557 non-null    float64\n 42  EP      617 non-null    float64\n 43  EU      617 non-null    float64\n 44  FC      616 non-null    float64\n 45  FD      617 non-null    float64\n 46  FE      617 non-null    float64\n 47  FI      617 non-null    float64\n 48  FL      616 non-null    float64\n 49  FR      617 non-null    float64\n 50  FS      615 non-null    float64\n 51  GB      617 non-null    float64\n 52  GE      617 non-null    float64\n 53  GF      617 non-null    float64\n 54  GH      617 non-null    float64\n 55  GI      617 non-null    float64\n 56  GL      616 non-null    float64\n 57  Class   617 non-null    int64  \ndtypes: float64(55), int64(1), object(2)\nmemory usage: 279.7+ KB\n",
          "output_type": "stream"
        }
      ]
    },
    {
      "cell_type": "markdown",
      "source": [
        "# Observations:\n",
        "1. Key Features: 56\n",
        "2. Target -Class - 0,1\n",
        "3. Number Rows - 617\n",
        "4. Missing Values exist in - BQ,CC, etc - Explore Further\n",
        "5. There exist one Categorical Feature - EJ"
      ],
      "metadata": {
        "id": "dRXhLwhRfbFr"
      }
    },
    {
      "cell_type": "code",
      "source": [
        "dataset_df.head()"
      ],
      "metadata": {
        "execution": {
          "iopub.status.busy": "2024-03-25T11:20:27.010266Z",
          "iopub.execute_input": "2024-03-25T11:20:27.010539Z",
          "iopub.status.idle": "2024-03-25T11:20:27.039462Z",
          "shell.execute_reply.started": "2024-03-25T11:20:27.010515Z",
          "shell.execute_reply": "2024-03-25T11:20:27.038569Z"
        },
        "trusted": true,
        "id": "UD9ct-m9fbFr",
        "outputId": "d94a09cb-9b83-4940-fcfc-c21971ab235b"
      },
      "execution_count": null,
      "outputs": [
        {
          "execution_count": 5,
          "output_type": "execute_result",
          "data": {
            "text/plain": "             Id        AB          AF          AH         AM        AR  \\\n0  000ff2bfdfe9  0.209377  3109.03329   85.200147  22.394407  8.138688   \n1  007255e47698  0.145282   978.76416   85.200147  36.968889  8.138688   \n2  013f2bd269f5  0.470030  2635.10654   85.200147  32.360553  8.138688   \n3  043ac50845d5  0.252107  3819.65177  120.201618  77.112203  8.138688   \n4  044fb8a146ec  0.380297  3733.04844   85.200147  14.103738  8.138688   \n\n         AX        AY         AZ          BC  ...        FL        FR  \\\n0  0.699861  0.025578   9.812214    5.555634  ...  7.298162   1.73855   \n1  3.632190  0.025578  13.517790    1.229900  ...  0.173229   0.49706   \n2  6.732840  0.025578  12.824570    1.229900  ...  7.709560   0.97556   \n3  3.685344  0.025578  11.053708    1.229900  ...  6.122162   0.49706   \n4  3.942255  0.054810   3.396778  102.151980  ...  8.153058  48.50134   \n\n         FS         GB          GE            GF         GH         GI  \\\n0  0.094822  11.339138   72.611063   2003.810319  22.136229  69.834944   \n1  0.568932   9.292698   72.611063  27981.562750  29.135430  32.131996   \n2  1.198821  37.077772   88.609437  13676.957810  28.022851  35.192676   \n3  0.284466  18.529584   82.416803   2094.262452  39.948656  90.493248   \n4  0.121914  16.408728  146.109943   8524.370502  45.381316  36.262628   \n\n          GL  Class  \n0   0.120343      1  \n1  21.978000      0  \n2   0.196941      0  \n3   0.155829      0  \n4   0.096614      1  \n\n[5 rows x 58 columns]",
            "text/html": "<div>\n<style scoped>\n    .dataframe tbody tr th:only-of-type {\n        vertical-align: middle;\n    }\n\n    .dataframe tbody tr th {\n        vertical-align: top;\n    }\n\n    .dataframe thead th {\n        text-align: right;\n    }\n</style>\n<table border=\"1\" class=\"dataframe\">\n  <thead>\n    <tr style=\"text-align: right;\">\n      <th></th>\n      <th>Id</th>\n      <th>AB</th>\n      <th>AF</th>\n      <th>AH</th>\n      <th>AM</th>\n      <th>AR</th>\n      <th>AX</th>\n      <th>AY</th>\n      <th>AZ</th>\n      <th>BC</th>\n      <th>...</th>\n      <th>FL</th>\n      <th>FR</th>\n      <th>FS</th>\n      <th>GB</th>\n      <th>GE</th>\n      <th>GF</th>\n      <th>GH</th>\n      <th>GI</th>\n      <th>GL</th>\n      <th>Class</th>\n    </tr>\n  </thead>\n  <tbody>\n    <tr>\n      <th>0</th>\n      <td>000ff2bfdfe9</td>\n      <td>0.209377</td>\n      <td>3109.03329</td>\n      <td>85.200147</td>\n      <td>22.394407</td>\n      <td>8.138688</td>\n      <td>0.699861</td>\n      <td>0.025578</td>\n      <td>9.812214</td>\n      <td>5.555634</td>\n      <td>...</td>\n      <td>7.298162</td>\n      <td>1.73855</td>\n      <td>0.094822</td>\n      <td>11.339138</td>\n      <td>72.611063</td>\n      <td>2003.810319</td>\n      <td>22.136229</td>\n      <td>69.834944</td>\n      <td>0.120343</td>\n      <td>1</td>\n    </tr>\n    <tr>\n      <th>1</th>\n      <td>007255e47698</td>\n      <td>0.145282</td>\n      <td>978.76416</td>\n      <td>85.200147</td>\n      <td>36.968889</td>\n      <td>8.138688</td>\n      <td>3.632190</td>\n      <td>0.025578</td>\n      <td>13.517790</td>\n      <td>1.229900</td>\n      <td>...</td>\n      <td>0.173229</td>\n      <td>0.49706</td>\n      <td>0.568932</td>\n      <td>9.292698</td>\n      <td>72.611063</td>\n      <td>27981.562750</td>\n      <td>29.135430</td>\n      <td>32.131996</td>\n      <td>21.978000</td>\n      <td>0</td>\n    </tr>\n    <tr>\n      <th>2</th>\n      <td>013f2bd269f5</td>\n      <td>0.470030</td>\n      <td>2635.10654</td>\n      <td>85.200147</td>\n      <td>32.360553</td>\n      <td>8.138688</td>\n      <td>6.732840</td>\n      <td>0.025578</td>\n      <td>12.824570</td>\n      <td>1.229900</td>\n      <td>...</td>\n      <td>7.709560</td>\n      <td>0.97556</td>\n      <td>1.198821</td>\n      <td>37.077772</td>\n      <td>88.609437</td>\n      <td>13676.957810</td>\n      <td>28.022851</td>\n      <td>35.192676</td>\n      <td>0.196941</td>\n      <td>0</td>\n    </tr>\n    <tr>\n      <th>3</th>\n      <td>043ac50845d5</td>\n      <td>0.252107</td>\n      <td>3819.65177</td>\n      <td>120.201618</td>\n      <td>77.112203</td>\n      <td>8.138688</td>\n      <td>3.685344</td>\n      <td>0.025578</td>\n      <td>11.053708</td>\n      <td>1.229900</td>\n      <td>...</td>\n      <td>6.122162</td>\n      <td>0.49706</td>\n      <td>0.284466</td>\n      <td>18.529584</td>\n      <td>82.416803</td>\n      <td>2094.262452</td>\n      <td>39.948656</td>\n      <td>90.493248</td>\n      <td>0.155829</td>\n      <td>0</td>\n    </tr>\n    <tr>\n      <th>4</th>\n      <td>044fb8a146ec</td>\n      <td>0.380297</td>\n      <td>3733.04844</td>\n      <td>85.200147</td>\n      <td>14.103738</td>\n      <td>8.138688</td>\n      <td>3.942255</td>\n      <td>0.054810</td>\n      <td>3.396778</td>\n      <td>102.151980</td>\n      <td>...</td>\n      <td>8.153058</td>\n      <td>48.50134</td>\n      <td>0.121914</td>\n      <td>16.408728</td>\n      <td>146.109943</td>\n      <td>8524.370502</td>\n      <td>45.381316</td>\n      <td>36.262628</td>\n      <td>0.096614</td>\n      <td>1</td>\n    </tr>\n  </tbody>\n</table>\n<p>5 rows × 58 columns</p>\n</div>"
          },
          "metadata": {}
        }
      ]
    },
    {
      "cell_type": "code",
      "source": [
        "dataset_df.sample(10)"
      ],
      "metadata": {
        "execution": {
          "iopub.status.busy": "2024-03-25T11:20:27.040502Z",
          "iopub.execute_input": "2024-03-25T11:20:27.040828Z",
          "iopub.status.idle": "2024-03-25T11:20:27.068938Z",
          "shell.execute_reply.started": "2024-03-25T11:20:27.040797Z",
          "shell.execute_reply": "2024-03-25T11:20:27.068031Z"
        },
        "trusted": true,
        "id": "6nV-xV_QfbFs",
        "outputId": "6a890f3b-7d4e-4dbe-a724-e06d451bd6e6"
      },
      "execution_count": null,
      "outputs": [
        {
          "execution_count": 6,
          "output_type": "execute_result",
          "data": {
            "text/plain": "               Id        AB          AF          AH         AM         AR  \\\n480  c1ffde2da7d9  0.632404  3093.42550   85.200147  90.788555   8.138688   \n314  7cc870296984  1.311811  2436.50198  145.300956  24.717157   8.138688   \n435  acd97f3380e4  0.692226  2709.13434  124.730298  30.189556   8.138688   \n432  ac2074c4eeb5  0.141009  2025.32946   85.200147  12.186695   8.138688   \n414  a20c68851e9b  0.476440  4892.30588   85.200147  52.347043   8.138688   \n218  582ef2696f72  0.743502  7052.62536   85.200147  20.505237   8.138688   \n238  5fe47095520d  0.205104  2448.53785   85.200147  11.889383   8.138688   \n123  312661adb2ff  0.670861  1418.86415  124.294848  16.237571  10.792152   \n205  4fef9a973791  0.260653  2056.42404   85.200147  33.682972  10.278240   \n209  51111505c6f2  0.269199  3032.58912   85.200147  20.703445   8.138688   \n\n           AX        AY         AZ         BC  ...         FL       FR  \\\n480  4.695270  0.025578   3.396778   1.229900  ...   1.633415  1.16290   \n314  4.101717  0.063945   3.396778   9.417520  ...   0.173229  1.32414   \n435  6.896731  0.048720  20.279836   1.229900  ...   7.195424  1.28557   \n432  5.873517  0.025578  12.402336   1.229900  ...   0.173229  0.49706   \n414  4.757283  0.025578  10.360488   1.229900  ...   1.680511  0.49706   \n218  4.287756  0.043239   8.589626   7.382914  ...   9.390132  0.49706   \n238  3.756216  0.052069  13.190086   5.987856  ...  10.791274  1.74203   \n123  4.588962  0.166866  12.704832  10.756354  ...   4.193459  4.20935   \n205  4.890168  0.025578  11.765834   3.232880  ...   0.173229  0.49706   \n209  3.986550  0.135198  15.049176   7.316148  ...   0.173229  1.20872   \n\n           FS         GB          GE             GF         GH          GI  \\\n480  0.426699  10.827528  118.061993    6016.454496  41.396125   22.697900   \n314  0.325104  18.176108  115.743068   21724.166470  29.265665   95.464924   \n435  0.081276  20.389984   72.611063     595.765044  31.286168   55.263278   \n432  0.121914  16.929640  197.996442   37942.945340  33.310392  116.773944   \n414  0.176098  24.408448  128.084166   24212.782200  62.475590   13.184072   \n218  0.717938   8.883410   72.611063   10970.070730  42.858478   43.812734   \n238  0.291239  23.896838   72.611063    2629.423539  28.260995   64.796396   \n123  0.067730  19.190026   72.611063   16164.484420  12.830008   23.441208   \n205  0.257374  18.864456  175.394653   31694.918170  28.994032  191.194764   \n209  0.880490  35.933626   72.611063  124340.327900  33.529931    7.767440   \n\n            GL  Class  \n480   3.564000      0  \n314  21.978000      0  \n435   0.125788      0  \n432  21.978000      0  \n414   0.257196      0  \n218   0.092564      1  \n238   0.076761      1  \n123   1.009800      0  \n205  21.978000      0  \n209  21.978000      0  \n\n[10 rows x 58 columns]",
            "text/html": "<div>\n<style scoped>\n    .dataframe tbody tr th:only-of-type {\n        vertical-align: middle;\n    }\n\n    .dataframe tbody tr th {\n        vertical-align: top;\n    }\n\n    .dataframe thead th {\n        text-align: right;\n    }\n</style>\n<table border=\"1\" class=\"dataframe\">\n  <thead>\n    <tr style=\"text-align: right;\">\n      <th></th>\n      <th>Id</th>\n      <th>AB</th>\n      <th>AF</th>\n      <th>AH</th>\n      <th>AM</th>\n      <th>AR</th>\n      <th>AX</th>\n      <th>AY</th>\n      <th>AZ</th>\n      <th>BC</th>\n      <th>...</th>\n      <th>FL</th>\n      <th>FR</th>\n      <th>FS</th>\n      <th>GB</th>\n      <th>GE</th>\n      <th>GF</th>\n      <th>GH</th>\n      <th>GI</th>\n      <th>GL</th>\n      <th>Class</th>\n    </tr>\n  </thead>\n  <tbody>\n    <tr>\n      <th>480</th>\n      <td>c1ffde2da7d9</td>\n      <td>0.632404</td>\n      <td>3093.42550</td>\n      <td>85.200147</td>\n      <td>90.788555</td>\n      <td>8.138688</td>\n      <td>4.695270</td>\n      <td>0.025578</td>\n      <td>3.396778</td>\n      <td>1.229900</td>\n      <td>...</td>\n      <td>1.633415</td>\n      <td>1.16290</td>\n      <td>0.426699</td>\n      <td>10.827528</td>\n      <td>118.061993</td>\n      <td>6016.454496</td>\n      <td>41.396125</td>\n      <td>22.697900</td>\n      <td>3.564000</td>\n      <td>0</td>\n    </tr>\n    <tr>\n      <th>314</th>\n      <td>7cc870296984</td>\n      <td>1.311811</td>\n      <td>2436.50198</td>\n      <td>145.300956</td>\n      <td>24.717157</td>\n      <td>8.138688</td>\n      <td>4.101717</td>\n      <td>0.063945</td>\n      <td>3.396778</td>\n      <td>9.417520</td>\n      <td>...</td>\n      <td>0.173229</td>\n      <td>1.32414</td>\n      <td>0.325104</td>\n      <td>18.176108</td>\n      <td>115.743068</td>\n      <td>21724.166470</td>\n      <td>29.265665</td>\n      <td>95.464924</td>\n      <td>21.978000</td>\n      <td>0</td>\n    </tr>\n    <tr>\n      <th>435</th>\n      <td>acd97f3380e4</td>\n      <td>0.692226</td>\n      <td>2709.13434</td>\n      <td>124.730298</td>\n      <td>30.189556</td>\n      <td>8.138688</td>\n      <td>6.896731</td>\n      <td>0.048720</td>\n      <td>20.279836</td>\n      <td>1.229900</td>\n      <td>...</td>\n      <td>7.195424</td>\n      <td>1.28557</td>\n      <td>0.081276</td>\n      <td>20.389984</td>\n      <td>72.611063</td>\n      <td>595.765044</td>\n      <td>31.286168</td>\n      <td>55.263278</td>\n      <td>0.125788</td>\n      <td>0</td>\n    </tr>\n    <tr>\n      <th>432</th>\n      <td>ac2074c4eeb5</td>\n      <td>0.141009</td>\n      <td>2025.32946</td>\n      <td>85.200147</td>\n      <td>12.186695</td>\n      <td>8.138688</td>\n      <td>5.873517</td>\n      <td>0.025578</td>\n      <td>12.402336</td>\n      <td>1.229900</td>\n      <td>...</td>\n      <td>0.173229</td>\n      <td>0.49706</td>\n      <td>0.121914</td>\n      <td>16.929640</td>\n      <td>197.996442</td>\n      <td>37942.945340</td>\n      <td>33.310392</td>\n      <td>116.773944</td>\n      <td>21.978000</td>\n      <td>0</td>\n    </tr>\n    <tr>\n      <th>414</th>\n      <td>a20c68851e9b</td>\n      <td>0.476440</td>\n      <td>4892.30588</td>\n      <td>85.200147</td>\n      <td>52.347043</td>\n      <td>8.138688</td>\n      <td>4.757283</td>\n      <td>0.025578</td>\n      <td>10.360488</td>\n      <td>1.229900</td>\n      <td>...</td>\n      <td>1.680511</td>\n      <td>0.49706</td>\n      <td>0.176098</td>\n      <td>24.408448</td>\n      <td>128.084166</td>\n      <td>24212.782200</td>\n      <td>62.475590</td>\n      <td>13.184072</td>\n      <td>0.257196</td>\n      <td>0</td>\n    </tr>\n    <tr>\n      <th>218</th>\n      <td>582ef2696f72</td>\n      <td>0.743502</td>\n      <td>7052.62536</td>\n      <td>85.200147</td>\n      <td>20.505237</td>\n      <td>8.138688</td>\n      <td>4.287756</td>\n      <td>0.043239</td>\n      <td>8.589626</td>\n      <td>7.382914</td>\n      <td>...</td>\n      <td>9.390132</td>\n      <td>0.49706</td>\n      <td>0.717938</td>\n      <td>8.883410</td>\n      <td>72.611063</td>\n      <td>10970.070730</td>\n      <td>42.858478</td>\n      <td>43.812734</td>\n      <td>0.092564</td>\n      <td>1</td>\n    </tr>\n    <tr>\n      <th>238</th>\n      <td>5fe47095520d</td>\n      <td>0.205104</td>\n      <td>2448.53785</td>\n      <td>85.200147</td>\n      <td>11.889383</td>\n      <td>8.138688</td>\n      <td>3.756216</td>\n      <td>0.052069</td>\n      <td>13.190086</td>\n      <td>5.987856</td>\n      <td>...</td>\n      <td>10.791274</td>\n      <td>1.74203</td>\n      <td>0.291239</td>\n      <td>23.896838</td>\n      <td>72.611063</td>\n      <td>2629.423539</td>\n      <td>28.260995</td>\n      <td>64.796396</td>\n      <td>0.076761</td>\n      <td>1</td>\n    </tr>\n    <tr>\n      <th>123</th>\n      <td>312661adb2ff</td>\n      <td>0.670861</td>\n      <td>1418.86415</td>\n      <td>124.294848</td>\n      <td>16.237571</td>\n      <td>10.792152</td>\n      <td>4.588962</td>\n      <td>0.166866</td>\n      <td>12.704832</td>\n      <td>10.756354</td>\n      <td>...</td>\n      <td>4.193459</td>\n      <td>4.20935</td>\n      <td>0.067730</td>\n      <td>19.190026</td>\n      <td>72.611063</td>\n      <td>16164.484420</td>\n      <td>12.830008</td>\n      <td>23.441208</td>\n      <td>1.009800</td>\n      <td>0</td>\n    </tr>\n    <tr>\n      <th>205</th>\n      <td>4fef9a973791</td>\n      <td>0.260653</td>\n      <td>2056.42404</td>\n      <td>85.200147</td>\n      <td>33.682972</td>\n      <td>10.278240</td>\n      <td>4.890168</td>\n      <td>0.025578</td>\n      <td>11.765834</td>\n      <td>3.232880</td>\n      <td>...</td>\n      <td>0.173229</td>\n      <td>0.49706</td>\n      <td>0.257374</td>\n      <td>18.864456</td>\n      <td>175.394653</td>\n      <td>31694.918170</td>\n      <td>28.994032</td>\n      <td>191.194764</td>\n      <td>21.978000</td>\n      <td>0</td>\n    </tr>\n    <tr>\n      <th>209</th>\n      <td>51111505c6f2</td>\n      <td>0.269199</td>\n      <td>3032.58912</td>\n      <td>85.200147</td>\n      <td>20.703445</td>\n      <td>8.138688</td>\n      <td>3.986550</td>\n      <td>0.135198</td>\n      <td>15.049176</td>\n      <td>7.316148</td>\n      <td>...</td>\n      <td>0.173229</td>\n      <td>1.20872</td>\n      <td>0.880490</td>\n      <td>35.933626</td>\n      <td>72.611063</td>\n      <td>124340.327900</td>\n      <td>33.529931</td>\n      <td>7.767440</td>\n      <td>21.978000</td>\n      <td>0</td>\n    </tr>\n  </tbody>\n</table>\n<p>10 rows × 58 columns</p>\n</div>"
          },
          "metadata": {}
        }
      ]
    },
    {
      "cell_type": "markdown",
      "source": [
        "# Quick Descreptive Statistics Analysis"
      ],
      "metadata": {
        "id": "C7JZGOhtfbFs"
      }
    },
    {
      "cell_type": "code",
      "source": [
        "dataset_df.describe()"
      ],
      "metadata": {
        "execution": {
          "iopub.status.busy": "2024-03-25T11:20:27.070194Z",
          "iopub.execute_input": "2024-03-25T11:20:27.070551Z",
          "iopub.status.idle": "2024-03-25T11:20:27.251305Z",
          "shell.execute_reply.started": "2024-03-25T11:20:27.070520Z",
          "shell.execute_reply": "2024-03-25T11:20:27.250380Z"
        },
        "trusted": true,
        "id": "OD5z2n47fbFt",
        "outputId": "85f27928-cf84-4289-edcf-24484398feb0"
      },
      "execution_count": null,
      "outputs": [
        {
          "execution_count": 7,
          "output_type": "execute_result",
          "data": {
            "text/plain": "               AB            AF           AH          AM          AR  \\\ncount  617.000000    617.000000   617.000000  617.000000  617.000000   \nmean     0.477149   3502.013221   118.624513   38.968552   10.128242   \nstd      0.468388   2300.322717   127.838950   69.728226   10.518877   \nmin      0.081187    192.593280    85.200147    3.177522    8.138688   \n25%      0.252107   2197.345480    85.200147   12.270314    8.138688   \n50%      0.354659   3120.318960    85.200147   20.533110    8.138688   \n75%      0.559763   4361.637390   113.739540   39.139886    8.138688   \nmax      6.161666  28688.187660  1910.123198  630.518230  178.943634   \n\n               AX          AY          AZ           BC           BD   ...  \\\ncount  617.000000  617.000000  617.000000   617.000000    617.000000  ...   \nmean     5.545576    0.060320   10.566447     8.053012   5350.388655  ...   \nstd      2.551696    0.416817    4.350645    65.166943   3021.326641  ...   \nmin      0.699861    0.025578    3.396778     1.229900   1693.624320  ...   \n25%      4.128294    0.025578    8.129580     1.229900   4155.702870  ...   \n50%      5.031912    0.025578   10.461320     1.229900   4997.960730  ...   \n75%      6.431634    0.036845   12.969516     5.081244   6035.885700  ...   \nmax     38.270880   10.315851   38.971568  1463.693448  53060.599240  ...   \n\n               FL           FR          FS          GB           GE  \\\ncount  616.000000   617.000000  615.000000  617.000000   617.000000   \nmean     5.433199     3.533905    0.421501   20.724856   131.714987   \nstd     11.496257    50.181948    1.305365    9.991907   144.181524   \nmin      0.173229     0.497060    0.067730    4.102182    72.611063   \n25%      0.173229     0.497060    0.067730   14.036718    72.611063   \n50%      3.028141     1.131000    0.250601   18.771436    72.611063   \n75%      6.238814     1.512060    0.535067   25.608406   127.591671   \nmax    137.932739  1244.227020   31.365763  135.781294  1497.351958   \n\n                  GF          GH          GI          GL       Class  \ncount     617.000000  617.000000  617.000000  616.000000  617.000000  \nmean    14679.595398   31.489716   50.584437    8.530961    0.175041  \nstd     19352.959387    9.864239   36.266251   10.327010    0.380310  \nmin        13.038894    9.432735    0.897628    0.001129    0.000000  \n25%      2798.992584   25.034888   23.011684    0.124392    0.000000  \n50%      7838.273610   30.608946   41.007968    0.337827    0.000000  \n75%     19035.709240   36.863947   67.931664   21.978000    0.000000  \nmax    143790.071200   81.210825  191.194764   21.978000    1.000000  \n\n[8 rows x 56 columns]",
            "text/html": "<div>\n<style scoped>\n    .dataframe tbody tr th:only-of-type {\n        vertical-align: middle;\n    }\n\n    .dataframe tbody tr th {\n        vertical-align: top;\n    }\n\n    .dataframe thead th {\n        text-align: right;\n    }\n</style>\n<table border=\"1\" class=\"dataframe\">\n  <thead>\n    <tr style=\"text-align: right;\">\n      <th></th>\n      <th>AB</th>\n      <th>AF</th>\n      <th>AH</th>\n      <th>AM</th>\n      <th>AR</th>\n      <th>AX</th>\n      <th>AY</th>\n      <th>AZ</th>\n      <th>BC</th>\n      <th>BD</th>\n      <th>...</th>\n      <th>FL</th>\n      <th>FR</th>\n      <th>FS</th>\n      <th>GB</th>\n      <th>GE</th>\n      <th>GF</th>\n      <th>GH</th>\n      <th>GI</th>\n      <th>GL</th>\n      <th>Class</th>\n    </tr>\n  </thead>\n  <tbody>\n    <tr>\n      <th>count</th>\n      <td>617.000000</td>\n      <td>617.000000</td>\n      <td>617.000000</td>\n      <td>617.000000</td>\n      <td>617.000000</td>\n      <td>617.000000</td>\n      <td>617.000000</td>\n      <td>617.000000</td>\n      <td>617.000000</td>\n      <td>617.000000</td>\n      <td>...</td>\n      <td>616.000000</td>\n      <td>617.000000</td>\n      <td>615.000000</td>\n      <td>617.000000</td>\n      <td>617.000000</td>\n      <td>617.000000</td>\n      <td>617.000000</td>\n      <td>617.000000</td>\n      <td>616.000000</td>\n      <td>617.000000</td>\n    </tr>\n    <tr>\n      <th>mean</th>\n      <td>0.477149</td>\n      <td>3502.013221</td>\n      <td>118.624513</td>\n      <td>38.968552</td>\n      <td>10.128242</td>\n      <td>5.545576</td>\n      <td>0.060320</td>\n      <td>10.566447</td>\n      <td>8.053012</td>\n      <td>5350.388655</td>\n      <td>...</td>\n      <td>5.433199</td>\n      <td>3.533905</td>\n      <td>0.421501</td>\n      <td>20.724856</td>\n      <td>131.714987</td>\n      <td>14679.595398</td>\n      <td>31.489716</td>\n      <td>50.584437</td>\n      <td>8.530961</td>\n      <td>0.175041</td>\n    </tr>\n    <tr>\n      <th>std</th>\n      <td>0.468388</td>\n      <td>2300.322717</td>\n      <td>127.838950</td>\n      <td>69.728226</td>\n      <td>10.518877</td>\n      <td>2.551696</td>\n      <td>0.416817</td>\n      <td>4.350645</td>\n      <td>65.166943</td>\n      <td>3021.326641</td>\n      <td>...</td>\n      <td>11.496257</td>\n      <td>50.181948</td>\n      <td>1.305365</td>\n      <td>9.991907</td>\n      <td>144.181524</td>\n      <td>19352.959387</td>\n      <td>9.864239</td>\n      <td>36.266251</td>\n      <td>10.327010</td>\n      <td>0.380310</td>\n    </tr>\n    <tr>\n      <th>min</th>\n      <td>0.081187</td>\n      <td>192.593280</td>\n      <td>85.200147</td>\n      <td>3.177522</td>\n      <td>8.138688</td>\n      <td>0.699861</td>\n      <td>0.025578</td>\n      <td>3.396778</td>\n      <td>1.229900</td>\n      <td>1693.624320</td>\n      <td>...</td>\n      <td>0.173229</td>\n      <td>0.497060</td>\n      <td>0.067730</td>\n      <td>4.102182</td>\n      <td>72.611063</td>\n      <td>13.038894</td>\n      <td>9.432735</td>\n      <td>0.897628</td>\n      <td>0.001129</td>\n      <td>0.000000</td>\n    </tr>\n    <tr>\n      <th>25%</th>\n      <td>0.252107</td>\n      <td>2197.345480</td>\n      <td>85.200147</td>\n      <td>12.270314</td>\n      <td>8.138688</td>\n      <td>4.128294</td>\n      <td>0.025578</td>\n      <td>8.129580</td>\n      <td>1.229900</td>\n      <td>4155.702870</td>\n      <td>...</td>\n      <td>0.173229</td>\n      <td>0.497060</td>\n      <td>0.067730</td>\n      <td>14.036718</td>\n      <td>72.611063</td>\n      <td>2798.992584</td>\n      <td>25.034888</td>\n      <td>23.011684</td>\n      <td>0.124392</td>\n      <td>0.000000</td>\n    </tr>\n    <tr>\n      <th>50%</th>\n      <td>0.354659</td>\n      <td>3120.318960</td>\n      <td>85.200147</td>\n      <td>20.533110</td>\n      <td>8.138688</td>\n      <td>5.031912</td>\n      <td>0.025578</td>\n      <td>10.461320</td>\n      <td>1.229900</td>\n      <td>4997.960730</td>\n      <td>...</td>\n      <td>3.028141</td>\n      <td>1.131000</td>\n      <td>0.250601</td>\n      <td>18.771436</td>\n      <td>72.611063</td>\n      <td>7838.273610</td>\n      <td>30.608946</td>\n      <td>41.007968</td>\n      <td>0.337827</td>\n      <td>0.000000</td>\n    </tr>\n    <tr>\n      <th>75%</th>\n      <td>0.559763</td>\n      <td>4361.637390</td>\n      <td>113.739540</td>\n      <td>39.139886</td>\n      <td>8.138688</td>\n      <td>6.431634</td>\n      <td>0.036845</td>\n      <td>12.969516</td>\n      <td>5.081244</td>\n      <td>6035.885700</td>\n      <td>...</td>\n      <td>6.238814</td>\n      <td>1.512060</td>\n      <td>0.535067</td>\n      <td>25.608406</td>\n      <td>127.591671</td>\n      <td>19035.709240</td>\n      <td>36.863947</td>\n      <td>67.931664</td>\n      <td>21.978000</td>\n      <td>0.000000</td>\n    </tr>\n    <tr>\n      <th>max</th>\n      <td>6.161666</td>\n      <td>28688.187660</td>\n      <td>1910.123198</td>\n      <td>630.518230</td>\n      <td>178.943634</td>\n      <td>38.270880</td>\n      <td>10.315851</td>\n      <td>38.971568</td>\n      <td>1463.693448</td>\n      <td>53060.599240</td>\n      <td>...</td>\n      <td>137.932739</td>\n      <td>1244.227020</td>\n      <td>31.365763</td>\n      <td>135.781294</td>\n      <td>1497.351958</td>\n      <td>143790.071200</td>\n      <td>81.210825</td>\n      <td>191.194764</td>\n      <td>21.978000</td>\n      <td>1.000000</td>\n    </tr>\n  </tbody>\n</table>\n<p>8 rows × 56 columns</p>\n</div>"
          },
          "metadata": {}
        }
      ]
    },
    {
      "cell_type": "markdown",
      "source": [
        "# Observation\n",
        "\n",
        "1. Data is Skewed or not\n",
        " Feature AB looks Right Skewed distribution\n",
        "\n",
        "2. Outlier Exist or not\n",
        "Feature AB looks outlier Exist - based on Std - 3 Sigma\n",
        "IQR --> Q3 + 1.5* IQR or Q1-1.5* IQR\n",
        "IQR = 0.3, Q3 = 0.55\n",
        "Outlier exist from Tukey Fench\n",
        "\n",
        "Note: We need to do data transformation"
      ],
      "metadata": {
        "id": "bE28yztmfbFt"
      }
    },
    {
      "cell_type": "markdown",
      "source": [
        "# Step 4: Data PreProcessing\n",
        "1. Data Cleaning not required\n",
        "    a. Drop ID - Not useful\n",
        "2. Missing value handling is required\n",
        "3. Encoding - one Feature is required"
      ],
      "metadata": {
        "id": "IevO96g3fbFt"
      }
    },
    {
      "cell_type": "code",
      "source": [
        "# Drop ID - Not useful\n",
        "dataset_df.drop(['Id'], axis=1, inplace=True)"
      ],
      "metadata": {
        "execution": {
          "iopub.status.busy": "2024-03-25T11:20:27.252587Z",
          "iopub.execute_input": "2024-03-25T11:20:27.252995Z",
          "iopub.status.idle": "2024-03-25T11:20:27.258950Z",
          "shell.execute_reply.started": "2024-03-25T11:20:27.252955Z",
          "shell.execute_reply": "2024-03-25T11:20:27.257918Z"
        },
        "trusted": true,
        "id": "5nTi9NJBfbFt"
      },
      "execution_count": null,
      "outputs": []
    },
    {
      "cell_type": "code",
      "source": [
        "dataset_df.columns"
      ],
      "metadata": {
        "execution": {
          "iopub.status.busy": "2024-03-25T11:20:27.260520Z",
          "iopub.execute_input": "2024-03-25T11:20:27.261227Z",
          "iopub.status.idle": "2024-03-25T11:20:27.269714Z",
          "shell.execute_reply.started": "2024-03-25T11:20:27.261163Z",
          "shell.execute_reply": "2024-03-25T11:20:27.268512Z"
        },
        "trusted": true,
        "id": "BeQUa_G1fbFt",
        "outputId": "0eb00f92-27b8-48bc-a451-c65ff1844e64"
      },
      "execution_count": null,
      "outputs": [
        {
          "execution_count": 9,
          "output_type": "execute_result",
          "data": {
            "text/plain": "Index(['AB', 'AF', 'AH', 'AM', 'AR', 'AX', 'AY', 'AZ', 'BC', 'BD ', 'BN', 'BP',\n       'BQ', 'BR', 'BZ', 'CB', 'CC', 'CD ', 'CF', 'CH', 'CL', 'CR', 'CS', 'CU',\n       'CW ', 'DA', 'DE', 'DF', 'DH', 'DI', 'DL', 'DN', 'DU', 'DV', 'DY', 'EB',\n       'EE', 'EG', 'EH', 'EJ', 'EL', 'EP', 'EU', 'FC', 'FD ', 'FE', 'FI', 'FL',\n       'FR', 'FS', 'GB', 'GE', 'GF', 'GH', 'GI', 'GL', 'Class'],\n      dtype='object')"
          },
          "metadata": {}
        }
      ]
    },
    {
      "cell_type": "code",
      "source": [
        "dataset_df.info()"
      ],
      "metadata": {
        "execution": {
          "iopub.status.busy": "2024-03-25T11:20:27.273915Z",
          "iopub.execute_input": "2024-03-25T11:20:27.274218Z",
          "iopub.status.idle": "2024-03-25T11:20:27.289309Z",
          "shell.execute_reply.started": "2024-03-25T11:20:27.274193Z",
          "shell.execute_reply": "2024-03-25T11:20:27.288418Z"
        },
        "trusted": true,
        "id": "jxHKobg2fbFu",
        "outputId": "2f944113-5cb3-4f97-e708-af491f2f87c8"
      },
      "execution_count": null,
      "outputs": [
        {
          "name": "stdout",
          "text": "<class 'pandas.core.frame.DataFrame'>\nRangeIndex: 617 entries, 0 to 616\nData columns (total 57 columns):\n #   Column  Non-Null Count  Dtype  \n---  ------  --------------  -----  \n 0   AB      617 non-null    float64\n 1   AF      617 non-null    float64\n 2   AH      617 non-null    float64\n 3   AM      617 non-null    float64\n 4   AR      617 non-null    float64\n 5   AX      617 non-null    float64\n 6   AY      617 non-null    float64\n 7   AZ      617 non-null    float64\n 8   BC      617 non-null    float64\n 9   BD      617 non-null    float64\n 10  BN      617 non-null    float64\n 11  BP      617 non-null    float64\n 12  BQ      557 non-null    float64\n 13  BR      617 non-null    float64\n 14  BZ      617 non-null    float64\n 15  CB      615 non-null    float64\n 16  CC      614 non-null    float64\n 17  CD      617 non-null    float64\n 18  CF      617 non-null    float64\n 19  CH      617 non-null    float64\n 20  CL      617 non-null    float64\n 21  CR      617 non-null    float64\n 22  CS      617 non-null    float64\n 23  CU      617 non-null    float64\n 24  CW      617 non-null    float64\n 25  DA      617 non-null    float64\n 26  DE      617 non-null    float64\n 27  DF      617 non-null    float64\n 28  DH      617 non-null    float64\n 29  DI      617 non-null    float64\n 30  DL      617 non-null    float64\n 31  DN      617 non-null    float64\n 32  DU      616 non-null    float64\n 33  DV      617 non-null    float64\n 34  DY      617 non-null    float64\n 35  EB      617 non-null    float64\n 36  EE      617 non-null    float64\n 37  EG      617 non-null    float64\n 38  EH      617 non-null    float64\n 39  EJ      617 non-null    object \n 40  EL      557 non-null    float64\n 41  EP      617 non-null    float64\n 42  EU      617 non-null    float64\n 43  FC      616 non-null    float64\n 44  FD      617 non-null    float64\n 45  FE      617 non-null    float64\n 46  FI      617 non-null    float64\n 47  FL      616 non-null    float64\n 48  FR      617 non-null    float64\n 49  FS      615 non-null    float64\n 50  GB      617 non-null    float64\n 51  GE      617 non-null    float64\n 52  GF      617 non-null    float64\n 53  GH      617 non-null    float64\n 54  GI      617 non-null    float64\n 55  GL      616 non-null    float64\n 56  Class   617 non-null    int64  \ndtypes: float64(55), int64(1), object(1)\nmemory usage: 274.9+ KB\n",
          "output_type": "stream"
        }
      ]
    },
    {
      "cell_type": "markdown",
      "source": [
        "## Missing value Handling"
      ],
      "metadata": {
        "id": "qQaZTAHkfbFu"
      }
    },
    {
      "cell_type": "code",
      "source": [
        "dataset_df.drop_duplicates(inplace=True)"
      ],
      "metadata": {
        "execution": {
          "iopub.status.busy": "2024-03-25T11:20:27.290416Z",
          "iopub.execute_input": "2024-03-25T11:20:27.290694Z",
          "iopub.status.idle": "2024-03-25T11:20:27.303001Z",
          "shell.execute_reply.started": "2024-03-25T11:20:27.290663Z",
          "shell.execute_reply": "2024-03-25T11:20:27.302237Z"
        },
        "trusted": true,
        "id": "wxfbFeUMfbFu"
      },
      "execution_count": null,
      "outputs": []
    },
    {
      "cell_type": "code",
      "source": [
        "dataset_df.shape"
      ],
      "metadata": {
        "execution": {
          "iopub.status.busy": "2024-03-25T11:20:27.304052Z",
          "iopub.execute_input": "2024-03-25T11:20:27.304398Z",
          "iopub.status.idle": "2024-03-25T11:20:27.310481Z",
          "shell.execute_reply.started": "2024-03-25T11:20:27.304368Z",
          "shell.execute_reply": "2024-03-25T11:20:27.309613Z"
        },
        "trusted": true,
        "id": "cuGxIB7ofbFu",
        "outputId": "6322fe92-af81-4a1a-eaff-272461230b51"
      },
      "execution_count": null,
      "outputs": [
        {
          "execution_count": 12,
          "output_type": "execute_result",
          "data": {
            "text/plain": "(617, 57)"
          },
          "metadata": {}
        }
      ]
    },
    {
      "cell_type": "code",
      "source": [
        "dataset_df.isnull().sum()"
      ],
      "metadata": {
        "execution": {
          "iopub.status.busy": "2024-03-25T11:20:27.311734Z",
          "iopub.execute_input": "2024-03-25T11:20:27.312198Z",
          "iopub.status.idle": "2024-03-25T11:20:27.321625Z",
          "shell.execute_reply.started": "2024-03-25T11:20:27.312161Z",
          "shell.execute_reply": "2024-03-25T11:20:27.320779Z"
        },
        "trusted": true,
        "id": "Y8xqU5ZyfbFu",
        "outputId": "b2665499-8da9-4ebf-fb09-fda4fd6fa188"
      },
      "execution_count": null,
      "outputs": [
        {
          "execution_count": 13,
          "output_type": "execute_result",
          "data": {
            "text/plain": "AB        0\nAF        0\nAH        0\nAM        0\nAR        0\nAX        0\nAY        0\nAZ        0\nBC        0\nBD        0\nBN        0\nBP        0\nBQ       60\nBR        0\nBZ        0\nCB        2\nCC        3\nCD        0\nCF        0\nCH        0\nCL        0\nCR        0\nCS        0\nCU        0\nCW        0\nDA        0\nDE        0\nDF        0\nDH        0\nDI        0\nDL        0\nDN        0\nDU        1\nDV        0\nDY        0\nEB        0\nEE        0\nEG        0\nEH        0\nEJ        0\nEL       60\nEP        0\nEU        0\nFC        1\nFD        0\nFE        0\nFI        0\nFL        1\nFR        0\nFS        2\nGB        0\nGE        0\nGF        0\nGH        0\nGI        0\nGL        1\nClass     0\ndtype: int64"
          },
          "metadata": {}
        }
      ]
    },
    {
      "cell_type": "code",
      "source": [
        "lst = list(dataset_df.isnull().sum())\n",
        "lst"
      ],
      "metadata": {
        "execution": {
          "iopub.status.busy": "2024-03-25T11:20:27.322686Z",
          "iopub.execute_input": "2024-03-25T11:20:27.322968Z",
          "iopub.status.idle": "2024-03-25T11:20:27.331260Z",
          "shell.execute_reply.started": "2024-03-25T11:20:27.322945Z",
          "shell.execute_reply": "2024-03-25T11:20:27.330313Z"
        },
        "trusted": true,
        "id": "zI5D8JurfbFv",
        "outputId": "2c28d0b0-4548-4f4e-a660-71ad2e0f3fc2"
      },
      "execution_count": null,
      "outputs": [
        {
          "execution_count": 14,
          "output_type": "execute_result",
          "data": {
            "text/plain": "[0,\n 0,\n 0,\n 0,\n 0,\n 0,\n 0,\n 0,\n 0,\n 0,\n 0,\n 0,\n 60,\n 0,\n 0,\n 2,\n 3,\n 0,\n 0,\n 0,\n 0,\n 0,\n 0,\n 0,\n 0,\n 0,\n 0,\n 0,\n 0,\n 0,\n 0,\n 0,\n 1,\n 0,\n 0,\n 0,\n 0,\n 0,\n 0,\n 0,\n 60,\n 0,\n 0,\n 1,\n 0,\n 0,\n 0,\n 1,\n 0,\n 2,\n 0,\n 0,\n 0,\n 0,\n 0,\n 1,\n 0]"
          },
          "metadata": {}
        }
      ]
    },
    {
      "cell_type": "code",
      "source": [
        "cols = list(dataset_df.columns)\n",
        "cols"
      ],
      "metadata": {
        "execution": {
          "iopub.status.busy": "2024-03-25T11:20:27.333615Z",
          "iopub.execute_input": "2024-03-25T11:20:27.334220Z",
          "iopub.status.idle": "2024-03-25T11:20:27.341788Z",
          "shell.execute_reply.started": "2024-03-25T11:20:27.334194Z",
          "shell.execute_reply": "2024-03-25T11:20:27.340771Z"
        },
        "trusted": true,
        "id": "6oIt7ytSfbFv",
        "outputId": "57bd3279-ab6f-4108-d4b3-df5330cd4f8d"
      },
      "execution_count": null,
      "outputs": [
        {
          "execution_count": 15,
          "output_type": "execute_result",
          "data": {
            "text/plain": "['AB',\n 'AF',\n 'AH',\n 'AM',\n 'AR',\n 'AX',\n 'AY',\n 'AZ',\n 'BC',\n 'BD ',\n 'BN',\n 'BP',\n 'BQ',\n 'BR',\n 'BZ',\n 'CB',\n 'CC',\n 'CD ',\n 'CF',\n 'CH',\n 'CL',\n 'CR',\n 'CS',\n 'CU',\n 'CW ',\n 'DA',\n 'DE',\n 'DF',\n 'DH',\n 'DI',\n 'DL',\n 'DN',\n 'DU',\n 'DV',\n 'DY',\n 'EB',\n 'EE',\n 'EG',\n 'EH',\n 'EJ',\n 'EL',\n 'EP',\n 'EU',\n 'FC',\n 'FD ',\n 'FE',\n 'FI',\n 'FL',\n 'FR',\n 'FS',\n 'GB',\n 'GE',\n 'GF',\n 'GH',\n 'GI',\n 'GL',\n 'Class']"
          },
          "metadata": {}
        }
      ]
    },
    {
      "cell_type": "code",
      "source": [
        "missing_col = []\n",
        "missing_rows = []\n",
        "for i in range(len(lst)):\n",
        "    if lst[i]>0:\n",
        "        missing_col.append(cols[i])\n",
        "        missing_rows.append(lst[i])\n",
        "missing_col,missing_rows"
      ],
      "metadata": {
        "execution": {
          "iopub.status.busy": "2024-03-25T11:20:27.342937Z",
          "iopub.execute_input": "2024-03-25T11:20:27.343495Z",
          "iopub.status.idle": "2024-03-25T11:20:27.351702Z",
          "shell.execute_reply.started": "2024-03-25T11:20:27.343461Z",
          "shell.execute_reply": "2024-03-25T11:20:27.350788Z"
        },
        "trusted": true,
        "id": "Ci__mYBcfbFv",
        "outputId": "b3ba9c8b-9bdd-45f6-adce-1069d9aaeda6"
      },
      "execution_count": null,
      "outputs": [
        {
          "execution_count": 16,
          "output_type": "execute_result",
          "data": {
            "text/plain": "(['BQ', 'CB', 'CC', 'DU', 'EL', 'FC', 'FL', 'FS', 'GL'],\n [60, 2, 3, 1, 60, 1, 1, 2, 1])"
          },
          "metadata": {}
        }
      ]
    },
    {
      "cell_type": "markdown",
      "source": [
        "# Missing value handling for BQ"
      ],
      "metadata": {
        "id": "vz5pbgZhfbFv"
      }
    },
    {
      "cell_type": "code",
      "source": [
        "dataset_df.BQ.unique(), dataset_df.BQ.max()-dataset_df.BQ.min()"
      ],
      "metadata": {
        "execution": {
          "iopub.status.busy": "2024-03-25T11:20:27.353022Z",
          "iopub.execute_input": "2024-03-25T11:20:27.353366Z",
          "iopub.status.idle": "2024-03-25T11:20:27.367577Z",
          "shell.execute_reply.started": "2024-03-25T11:20:27.353335Z",
          "shell.execute_reply": "2024-03-25T11:20:27.366789Z"
        },
        "trusted": true,
        "id": "JMq67EJ7fbFv",
        "outputId": "f8ddfd49-99ad-46b1-942e-4f4b6b095455"
      },
      "execution_count": null,
      "outputs": [
        {
          "execution_count": 17,
          "output_type": "execute_result",
          "data": {
            "text/plain": "(array([152.707705 ,  14.75472  , 219.32016  ,  11.05041  , 149.717165 ,\n         16.52612  , 344.644105 ,   6.1999   ,         nan, 107.276505 ,\n         28.949365 , 101.58979  ,  73.244785 , 109.751255 ,  37.879305 ,\n          5.681505 , 135.697055 ,  51.727485 ,  30.0109025,  32.987115 ,\n         86.60583  ,  26.156805 ,  29.090035 ,   7.57534  ,  80.314755 ,\n        193.41083  ,  72.28875  , 102.8454   , 107.979855 ,  31.92167  ,\n        173.141325 ,  47.158315 ,  46.731095 , 224.09252  ,  31.6247   ,\n        132.190725 ,  29.47297  ,  26.703855 ,  23.848775 ,  27.740645 ,\n         68.26663  ,  29.360955 , 228.950845 ,  44.032315 , 167.33478  ,\n          5.139665 ,  17.04191  , 222.631115 ,  54.9655   ,  25.008    ,\n         29.980945 ,  91.75331  ,  37.53284  ,   5.285545 ,  17.7726125,\n        107.81053  ,  31.064625 ,  14.85371  ,  44.735665 ,   2.93323  ,\n        143.73869  ,  66.826065 ,  27.834425 , 206.157095 ,  70.53819  ,\n        209.830145 , 128.15037  ,  40.83598  ,  17.1291775,  51.45917  ,\n         26.010925 ,  30.84841  ,  62.908145 ,  79.496785 ,  73.2955825,\n         87.791105 ,  16.210915 ,  96.387605 , 128.44734  ,  45.84279  ,\n        120.551585 ,  45.017005 ,  20.342445 , 120.41873  , 184.65282  ,\n         51.09968  , 112.07231  ,  56.4764   , 283.645425 ,  10.052695 ,\n         24.42969  ,  65.5939   ,  69.087205 , 138.296845 ,  27.65989  ,\n        118.57439  ,  18.36525  ,  13.14483  ,  33.23459  ,  17.7674025,\n         71.384815 , 110.73334  , 172.8456575,  30.095565 , 220.76854  ,\n         64.70299  ,  40.66405  ,  10.375715 ,   5.394955 ,  10.41479  ,\n         12.84786  ,  42.24268  ,   7.83063  ,  14.225905 , 103.254385 ,\n         21.19949  ,  89.531245 , 113.50506  , 174.75903  ,  34.08903  ,\n          2.2403   , 122.593905 ,  56.083045 , 321.52994  ,  42.34167  ,\n         88.463195 , 334.59662  ,  61.642115 , 104.57512  ,  57.37773  ,\n        200.7816775, 101.436095 ,  27.63384  ,  59.297615 ,  25.83639  ,\n         50.84439  ,  52.2042   ,  95.76501  ,  42.61259  ,  36.712265 ,\n          4.300855 , 141.818805 ,  49.185005 ,  45.386915 , 100.88123  ,\n         23.135005 , 108.97757  ,   8.46625  , 214.451415 , 145.48925  ,\n        208.96789  ,  24.651115 , 224.298315 ,  75.22198  ,   5.759655 ,\n        100.07368  ,  72.854035 , 131.169565 ,  98.737315 , 107.09155  ,\n         28.522145 ,  82.377915 , 251.75762  , 157.6546   ,  21.3089   ,\n         32.929805 ,  11.94653  ,  39.20004  ,  63.55679  ,  93.527315 ,\n         34.0851225,   4.931265 ,  64.122075 ,   4.905215 ,  30.1698075,\n         77.949415 , 129.757655 , 179.210975 ,  73.0298725,  33.721725 ,\n         21.248985 ,  56.010105 ,  10.323615 ,  32.018055 ,  22.2558175,\n         88.66378  ,  43.735345 ,  47.913765 ,  65.471465 ,  68.76679  ,\n         32.481745 ,  13.048445 ,  53.00654  ,   7.37215  ,  55.452635 ,\n         11.2418775,  69.540475 ,  11.74334  ,  24.51826  ,  27.0399   ,\n        160.70766  , 160.210105 ,  33.71912  , 155.448165 , 140.45639  ,\n        133.816245 , 166.11564  ,  73.098905 , 121.09603  ,  47.69755  ,\n        228.669505 ,  82.60976  ,  23.494495 ,   6.84073  ,  26.66999  ,\n        127.27509  ,  13.12399  ,  49.01047  ,   7.44509  ,  59.849875 ,\n         14.35355  ,   5.363695 ,  50.091545 , 150.639335 , 173.495605 ,\n         38.5500925, 132.242825 ,  99.565705 , 173.8577   ,  86.62146  ,\n         40.6901   , 150.2564   ,  29.861115 ,   7.442485 ,  12.07678  ,\n        206.250875 ,   2.748275 ,  55.61675  ,  33.91189  ,  46.491435 ,\n         44.839865 ,  91.610035 , 116.190815 , 110.42595  ,  27.81619  ,\n         32.299395 ,  48.1404   , 143.75953  , 197.84454  ,  37.2736425,\n        112.403145 ,  38.660805 ,  64.12468  ,  24.364565 ,  29.26457  ,\n        127.67105  ,   8.015585 ,  55.832965 ,  78.18647  , 165.274225 ,\n         21.644945 , 297.70982  ,  22.94484  ,  63.293685 ,  13.887255 ,\n        136.525445 ,  64.903575 , 141.76931  ,  79.345695 , 291.095725 ,\n         16.28646  ,  25.521185 ,   9.15918  ,  16.78141  , 265.32446  ,\n         44.407435 , 180.08365  ,  10.990495 ,  29.81683  ,  77.199175 ,\n         27.563505 ,  16.460995 ,   5.07454  ,  39.749695 , 107.07592  ,\n         92.35767  , 203.187395 ,  58.672415 ,  27.52443  ,  39.9906575,\n         74.46653  ,  63.960565 ,  50.388515 , 112.89028  ,  37.4599   ,\n         87.233635 ,  23.984235 , 250.436885 ,  95.616525 , 133.9491   ,\n         52.94402  ,  11.511495 , 152.0278   , 232.451965 ,  28.58206  ,\n        121.364345 ,  16.903845 , 134.22523  , 209.225785 ,   7.0335   ,\n        159.48852  , 134.009015 , 121.87753  , 261.232005 ,  12.8687   ,\n        115.419735 ,  46.25438  , 158.84769  ,  10.917555 ,  53.26183  ,\n          3.081715 , 228.6734125, 279.883805 ,  69.65249  ,  37.347885 ,\n         71.624475 ,  56.39304  , 112.476085 ,  56.723875 ,  50.17751  ,\n        114.17194  , 304.55055  ,  19.75111  ,  84.85527  ,  21.57982  ,\n         58.990225 ,  60.292725 ,  33.15644  ,  37.42864  ,  15.043875 ,\n         78.282855 ,  17.3493   ,  82.16691  , 144.04608  , 145.804455 ,\n         19.342125 ,  55.593305 ,  14.528085 ,  35.74581  ,  37.8246   ,\n         74.224265 ,  28.923315 ,  53.201915 , 140.13337  ,   4.998995 ,\n        161.371935 ,  74.41964  ,  79.251915 ,  51.19867  ,   4.82446  ,\n         95.095525 , 136.83544  ,   1.331155 , 329.31889  ,  64.30182  ,\n         22.78854  ,  39.041135 , 282.382    ,  53.775015 , 264.31893  ,\n        101.01669  ,  57.70596  , 141.44629  ,  17.591565 ,  73.71108  ,\n         73.328145 ,   9.979755 ,  65.61474  ,  39.202645 , 115.695865 ,\n         13.939355 ,  54.43929  , 101.696595 ,  13.00416  , 272.548125 ,\n         15.80193  ,  18.310545 ,  38.061655 , 188.96149  , 320.006015 ,\n         23.41895  ,  56.02313  ,  30.559255 ,  26.15941  ,  48.92711  ,\n        108.766565 ,  10.1595   ,  99.06815  ,   9.49262  ,   8.661625 ,\n          7.953065 ,  27.99854  , 136.05915  , 169.874655 ,  50.77145  ,\n         17.21384  ,  72.04388  , 301.5977825,  92.214395 ,  59.162155 ,\n        179.664245 ,  48.36443  , 163.685175 ,   9.026325 ,  56.916645 ,\n         88.47101  ,  45.834975 , 122.890875 , 270.32085  ,  34.477175 ,\n         32.122255 ,  74.23729  , 150.15741  ,  10.61798  ,  22.582745 ,\n         35.175315 ,  21.686625 , 291.517735 ,  11.766785 ,  20.1770275,\n         27.48275  , 123.72187  ,  41.995205 ,  14.4317   ,  11.65477  ,\n         49.388195 , 178.90619  , 207.63934  ,  53.165445 , 135.582435 ,\n         53.790645 ,  58.68544  , 147.56283  ,  36.29286  ,  90.041825 ,\n         16.414105 ,  75.9618   , 141.558305 ,  37.973085 , 163.721645 ,\n         16.216125 , 118.712455 ,  57.880495 , 222.146585 , 224.100335 ,\n         14.1191   ,  78.689235 , 128.637505 ,  43.56081  , 300.322635 ,\n         81.101465 , 106.52366  ,  42.55007  , 157.485275 , 135.38706  ,\n         11.865775 ,  45.88447  , 109.47252  , 295.68834  ,  15.01522  ,\n        177.595875 , 195.4792   ,  27.084185 ,  31.715875 , 125.73293  ,\n         60.58188  ,  37.175955 ,  44.714825 ,  37.02747  , 251.04906  ,\n        270.1762725,  13.09273  ,   6.41351  , 153.796595 , 108.761355 ,\n         22.07998  ,   2.37055  ,  51.394045 ,  54.80399  , 206.4840225,\n        102.29835  ,  77.152285 ,  26.68041  ,  51.691015 ,  89.307215 ,\n        110.50931  , 110.22276  ,   7.140305 ,  17.51081  ,  78.99923  ,\n        123.45095  ,  69.024685 ,  18.935745 ,  77.563875 ,  37.723005 ,\n         14.61405  , 118.728085 ,  64.408625 ,  16.367215 ,  49.857095 ,\n        102.040455 ,  99.00042  ,  33.122575 ,  27.287375 , 103.988995 ,\n          6.09049  ]),\n 343.31295)"
          },
          "metadata": {}
        }
      ]
    },
    {
      "cell_type": "code",
      "source": [
        "dataset_df.BQ.mean()"
      ],
      "metadata": {
        "execution": {
          "iopub.status.busy": "2024-03-25T11:20:27.368660Z",
          "iopub.execute_input": "2024-03-25T11:20:27.368965Z",
          "iopub.status.idle": "2024-03-25T11:20:27.375116Z",
          "shell.execute_reply.started": "2024-03-25T11:20:27.368940Z",
          "shell.execute_reply": "2024-03-25T11:20:27.374115Z"
        },
        "trusted": true,
        "id": "3wyOVbSjfbFw",
        "outputId": "f03721ec-52a6-4388-a4e5-e56f425c6df3"
      },
      "execution_count": null,
      "outputs": [
        {
          "execution_count": 18,
          "output_type": "execute_result",
          "data": {
            "text/plain": "98.32873688509873"
          },
          "metadata": {}
        }
      ]
    },
    {
      "cell_type": "code",
      "source": [
        "dataset_df.BQ.fillna(dataset_df.BQ.median(),inplace=True) # Filling Missing values using Mean"
      ],
      "metadata": {
        "execution": {
          "iopub.status.busy": "2024-03-25T11:20:27.376365Z",
          "iopub.execute_input": "2024-03-25T11:20:27.376674Z",
          "iopub.status.idle": "2024-03-25T11:20:27.382919Z",
          "shell.execute_reply.started": "2024-03-25T11:20:27.376650Z",
          "shell.execute_reply": "2024-03-25T11:20:27.381995Z"
        },
        "trusted": true,
        "id": "B1KwyC2mfbFw",
        "outputId": "8de170cc-64ce-40c1-caf6-ead4159ee30c"
      },
      "execution_count": null,
      "outputs": [
        {
          "name": "stderr",
          "text": "/tmp/ipykernel_34/2588932856.py:1: FutureWarning: A value is trying to be set on a copy of a DataFrame or Series through chained assignment using an inplace method.\nThe behavior will change in pandas 3.0. This inplace method will never work because the intermediate object on which we are setting values always behaves as a copy.\n\nFor example, when doing 'df[col].method(value, inplace=True)', try using 'df.method({col: value}, inplace=True)' or df[col] = df[col].method(value) instead, to perform the operation inplace on the original object.\n\n\n  dataset_df.BQ.fillna(dataset_df.BQ.median(),inplace=True) # Filling Missing values using Mean\n",
          "output_type": "stream"
        }
      ]
    },
    {
      "cell_type": "code",
      "source": [
        "dataset_df.isnull().sum()"
      ],
      "metadata": {
        "execution": {
          "iopub.status.busy": "2024-03-25T11:20:27.384089Z",
          "iopub.execute_input": "2024-03-25T11:20:27.384393Z",
          "iopub.status.idle": "2024-03-25T11:20:27.394071Z",
          "shell.execute_reply.started": "2024-03-25T11:20:27.384367Z",
          "shell.execute_reply": "2024-03-25T11:20:27.393245Z"
        },
        "trusted": true,
        "id": "0CBhNLRLfbFw",
        "outputId": "2e81a2b7-aefd-4330-ac87-d739eded5a45"
      },
      "execution_count": null,
      "outputs": [
        {
          "execution_count": 20,
          "output_type": "execute_result",
          "data": {
            "text/plain": "AB        0\nAF        0\nAH        0\nAM        0\nAR        0\nAX        0\nAY        0\nAZ        0\nBC        0\nBD        0\nBN        0\nBP        0\nBQ        0\nBR        0\nBZ        0\nCB        2\nCC        3\nCD        0\nCF        0\nCH        0\nCL        0\nCR        0\nCS        0\nCU        0\nCW        0\nDA        0\nDE        0\nDF        0\nDH        0\nDI        0\nDL        0\nDN        0\nDU        1\nDV        0\nDY        0\nEB        0\nEE        0\nEG        0\nEH        0\nEJ        0\nEL       60\nEP        0\nEU        0\nFC        1\nFD        0\nFE        0\nFI        0\nFL        1\nFR        0\nFS        2\nGB        0\nGE        0\nGF        0\nGH        0\nGI        0\nGL        1\nClass     0\ndtype: int64"
          },
          "metadata": {}
        }
      ]
    },
    {
      "cell_type": "code",
      "source": [
        "dataset_df.CC.unique(), dataset_df.CC.max()-dataset_df.CC.min()"
      ],
      "metadata": {
        "execution": {
          "iopub.status.busy": "2024-03-25T11:20:27.395210Z",
          "iopub.execute_input": "2024-03-25T11:20:27.395464Z",
          "iopub.status.idle": "2024-03-25T11:20:27.410082Z",
          "shell.execute_reply.started": "2024-03-25T11:20:27.395442Z",
          "shell.execute_reply": "2024-03-25T11:20:27.409110Z"
        },
        "trusted": true,
        "id": "vTGv2VYJfbFw",
        "outputId": "cb99a09a-8711-4654-bf04-b4f35ac7e424"
      },
      "execution_count": null,
      "outputs": [
        {
          "execution_count": 21,
          "output_type": "execute_result",
          "data": {
            "text/plain": "(array([0.56348064, 0.48471012, 0.49585158, 0.71788212, 0.53646696,\n        0.63946044, 0.94632336, 0.77190948, 0.85549644, 0.71827074,\n        0.76902696, 0.6598278 , 0.32973642, 0.44362044, 0.50394528,\n        0.65160864, 0.55128654, 0.8305299 , 0.57493728, 0.38906064,\n        0.7247916 , 0.7388676 , 0.71639496, 0.78043158,        nan,\n        0.60876864, 0.59063202, 0.76395348, 0.79105896, 0.60439896,\n        0.58534128, 0.39046212, 0.75027222, 0.65330694, 0.77776632,\n        0.75997854, 0.60527412, 0.56698128, 0.71499348, 0.69549516,\n        0.7075638 , 0.56488212, 0.63561096, 0.47963664, 0.61672464,\n        0.71525664, 0.65038464, 0.88766928, 0.669528  , 0.17687412,\n        0.61506612, 0.71105832, 0.49921452, 0.78597324, 0.74034864,\n        0.94851432, 0.42079284, 0.74681748, 0.6297939 , 0.58861854,\n        0.39343644, 0.8281278 , 0.43505244, 0.67871412, 0.9241659 ,\n        0.56759328, 0.49777326, 0.66183516, 0.60160212, 0.63683496,\n        0.43539516, 0.62966844, 0.50945328, 0.62048844, 0.78196464,\n        1.10116548, 0.99870444, 0.6965478 , 1.58157324, 0.50237244,\n        0.68010948, 0.65685348, 0.7821819 , 0.94863978, 0.96058296,\n        0.66931686, 0.52134444, 0.77496948, 0.70896528, 0.75031812,\n        0.6830379 , 0.99703368, 0.5369076 , 0.78974928, 0.84797496,\n        0.54678528, 0.77541012, 0.845784  , 0.6561558 , 0.8194221 ,\n        0.67346928, 0.77558148, 0.4597038 , 0.9737379 , 0.5459958 ,\n        0.7161777 , 1.14251832, 0.77977368, 0.72303516, 0.99197244,\n        0.40986864, 0.5466996 , 0.37620864, 0.75083832, 0.71926524,\n        0.9572598 , 1.13220612, 0.56260548, 0.70747812, 0.45629496,\n        0.81509832, 0.76299264, 0.69750864, 0.66144654, 0.71534232,\n        0.83870928, 0.64632402, 0.95223222, 0.66498084, 0.6494238 ,\n        0.67102128, 0.46110222, 1.01741328, 0.78485328, 0.58415706,\n        0.63513054, 0.63954612, 0.707472  , 0.4970358 , 0.61177662,\n        0.58734864, 0.79271748, 0.71210484, 0.64487664, 0.52977474,\n        0.45157644, 0.66708612, 0.37523556, 0.6194817 , 1.23895728,\n        0.99896148, 1.04591412, 0.85348296, 1.09649286, 2.0840436 ,\n        0.80439138, 0.70476696, 0.69209244, 0.6812478 , 0.18911412,\n        0.58512402, 0.57978738, 0.53699328, 0.68599998, 0.44554212,\n        0.7814781 , 0.71866548, 0.8103798 , 0.7070436 , 0.38757348,\n        0.63726948, 0.84438864, 0.5239638 , 0.66515832, 0.8422497 ,\n        0.75560274, 0.55832148, 0.57808296, 0.45262296, 0.6537537 ,\n        0.69383664, 0.6873678 , 0.5121522 , 1.19401812, 0.6249438 ,\n        0.61226928, 0.72916128, 0.9339579 , 0.67223304, 0.35278128,\n        0.69454044, 0.90410148, 0.58901328, 0.70336548, 0.73898694,\n        0.67464738, 0.98777412, 0.93208212, 0.50482044, 0.92657412,\n        1.04197896, 0.42263496, 0.6384078 , 0.6292737 , 0.62634528,\n        0.6603939 , 0.6427377 , 0.6127038 , 0.7149078 , 0.57611538,\n        0.49013244, 0.57248316, 0.99205812, 0.55972296, 0.52667496,\n        0.58560444, 0.50307012, 0.75495096, 0.82637748, 0.6555438 ,\n        0.59854212, 0.79228296, 0.40943412, 0.60068106, 0.50997348,\n        0.7724358 , 0.66883032, 0.6437322 , 0.55460358, 0.63796716,\n        1.64777328, 0.80146296, 0.93916296, 0.56702106, 0.45672948,\n        1.30960044, 0.82104696, 0.69964758, 0.92945664, 0.67504212,\n        1.12983768, 0.47247012, 0.6120918 , 0.78493896, 0.77383728,\n        0.72697644, 0.60330654, 0.74664612, 0.55019412, 0.53249202,\n        0.57874086, 0.64282338, 0.87306696, 0.79196778, 0.25643412,\n        0.72815454, 0.42691896, 0.34272612, 0.8232318 , 0.65851812,\n        0.61230906, 0.86397264, 0.47172654, 0.28309896, 1.53883116,\n        0.57991896, 0.5264577 , 0.69514632, 0.90795096, 0.68116212,\n        0.73602486, 0.46241496, 0.63136062, 0.88653096, 0.54140886,\n        0.84937644, 0.58306464, 0.6800697 , 0.58726296, 0.47002212,\n        0.69138864, 0.69121116, 0.50686758, 0.72478548, 0.58515768,\n        0.47168064, 1.08735264, 0.58884192, 0.98165412, 0.61864632,\n        0.78817032, 0.5508918 , 0.86576886, 0.55303074, 0.5643099 ,\n        0.6549318 , 0.52055496, 0.94221684, 0.50271516, 0.75608928,\n        0.28056528, 0.6757398 , 0.73291896, 0.24548544, 0.38101896,\n        0.74725812, 0.70913664, 0.85225896, 0.79036128, 0.52999812,\n        0.5661918 , 0.40265622, 1.00202148, 0.73235286, 0.67198212,\n        0.89195328, 0.71971812, 0.60500484, 0.5931198 , 0.54677916,\n        0.43076844, 0.7014438 , 0.68081328, 0.4610196 , 0.90270612,\n        1.14488064, 0.58454568, 0.66791538, 0.72111348, 0.64444212,\n        0.8728038 , 0.9199278 , 0.55045728, 0.7602876 , 0.62231832,\n        0.6511221 , 0.5661459 , 0.56461896, 0.70301664, 0.5907636 ,\n        0.65650464, 0.42963012, 0.6904278 , 0.65056212, 0.50135346,\n        0.73134   , 0.8401842 , 0.95725368, 0.34014042, 0.45616338,\n        0.760716  , 0.62387892, 0.47356254, 0.51950844, 0.71350632,\n        0.65208906, 0.75310884, 1.10417958, 0.35050464, 0.82960272,\n        0.47343096, 0.63465012, 0.62966232, 0.98068716, 0.30017682,\n        0.61296696, 0.67438422, 0.64960128, 0.71727012, 0.5644017 ,\n        4.1030316 , 0.61786296, 1.49514354, 0.91372212, 1.0603206 ,\n        0.77816106, 0.68710464, 0.57589812, 0.74279664, 0.71586864,\n        0.45323496, 0.79967286, 0.37339344, 1.02842316, 1.05621408,\n        0.91582128, 0.73589328, 1.07778402, 0.779076  , 1.04818464,\n        0.85767516, 0.7316766 , 0.65042442, 0.63867096, 0.76623012,\n        0.80653032, 0.7993638 , 0.42158844, 0.60037812, 0.81763812,\n        0.9566019 , 0.60391854, 0.69978528, 0.7798257 , 0.69156612,\n        0.61375644, 0.4199697 , 1.0585764 , 0.57891222, 0.6518718 ,\n        0.77689728, 0.83494548, 0.55351728, 0.51246738, 0.3440358 ,\n        0.31610106, 0.74769264, 0.48016296, 3.24168444, 0.67905684,\n        0.79709328, 0.61200612, 0.6125202 , 1.135872  , 0.73685412,\n        0.75757032, 0.4425219 , 0.7014897 , 0.66568464, 0.6923097 ,\n        1.00088316, 0.62704296, 0.62712864, 0.2978604 , 0.73108296,\n        0.68776254, 0.63875664, 0.65431368, 0.49878612, 0.43478928,\n        0.3495438 , 0.51277032, 1.05500844, 0.97754148, 0.64750212,\n        0.56207916, 0.65781432, 0.84561264, 0.83345832, 0.64601496,\n        0.53256546, 0.4354686 , 0.68098464, 0.52160148, 0.59640012,\n        0.59294844, 0.72543726, 0.92036844, 0.83022696, 0.57266064,\n        0.85579938, 0.56846232, 0.28939032, 0.77400864, 0.54814086,\n        0.8813718 , 0.675648  , 0.66869874, 0.84185496, 0.80574696,\n        0.88495812, 0.74590254, 0.88880148, 0.75302316, 0.58923054,\n        0.8128278 , 0.3574998 , 0.76802022, 0.64837116, 0.41021748,\n        0.4450617 , 0.89859348, 0.5300838 , 0.54608148, 0.59487012,\n        0.57887244, 1.38006612, 0.60911748, 0.42480144, 0.52185852,\n        0.69803496, 0.66087432, 0.46381644, 0.40216356, 0.50796612,\n        0.78712992, 0.62638506, 0.65152296, 0.5478777 , 0.95117958,\n        0.45568296, 0.72426528, 0.85794444, 0.65204928, 0.81440064,\n        0.64413306, 0.5221278 , 0.57129894, 0.55220148, 0.67010022,\n        0.39942486, 0.66061728, 0.7021476 , 0.73969686, 0.82646928,\n        0.48549348, 0.5728779 , 0.60024654, 0.47045664, 0.51461244,\n        0.6100722 , 0.63071496, 0.53909244, 0.29822148, 0.67972086,\n        0.51041412, 0.97055244, 0.6679215 , 0.49073832, 0.57576654,\n        0.63014274, 0.54258696, 0.5173236 , 0.60793938, 0.71311158,\n        0.59058612, 0.5374737 , 0.97177032, 1.12119012, 0.65816928,\n        0.42517476, 0.65238588, 0.73440612, 0.30555324, 0.64059264,\n        0.50001012, 0.62139114, 0.54922716, 0.74008548, 0.899028  ,\n        0.48567096, 0.70545852, 0.56982402, 0.72067896, 0.5869998 ,\n        0.57222   , 0.4148442 , 0.63259074, 0.73466928, 0.74887686,\n        0.64872   , 0.68333472, 0.6947118 , 0.65580696, 0.59513328,\n        0.73269558, 0.96994044, 0.48628296, 0.5349798 , 0.88980822,\n        0.89527032, 0.50289876, 0.65891286, 0.35064234, 0.73230696,\n        0.6909021 , 0.58245876, 0.56951496, 0.44728632, 0.5792427 ,\n        0.76185432, 0.78782148, 0.71167032, 0.86236002, 0.54206064,\n        0.87104736, 0.67473306, 0.7326558 , 0.65195748, 0.49974696,\n        0.4334796 , 0.73588716, 0.75818232, 0.6480621 , 0.64566   ,\n        0.52693812, 0.48811896, 1.3170699 , 0.69125706, 0.77230422,\n        0.70861644, 0.6022539 , 0.64483686]),\n 3.9261574799999996)"
          },
          "metadata": {}
        }
      ]
    },
    {
      "cell_type": "code",
      "source": [
        "dataset_df.CC.fillna(dataset_df.CC.mean(),inplace=True) # Filling Missing values using Mean"
      ],
      "metadata": {
        "execution": {
          "iopub.status.busy": "2024-03-25T11:20:27.411039Z",
          "iopub.execute_input": "2024-03-25T11:20:27.411329Z",
          "iopub.status.idle": "2024-03-25T11:20:27.420809Z",
          "shell.execute_reply.started": "2024-03-25T11:20:27.411306Z",
          "shell.execute_reply": "2024-03-25T11:20:27.419982Z"
        },
        "trusted": true,
        "id": "VQPOKAchfbFw",
        "outputId": "70bff939-39ea-46dc-933d-57f03567b9cb"
      },
      "execution_count": null,
      "outputs": [
        {
          "name": "stderr",
          "text": "/tmp/ipykernel_34/4286791961.py:1: FutureWarning: A value is trying to be set on a copy of a DataFrame or Series through chained assignment using an inplace method.\nThe behavior will change in pandas 3.0. This inplace method will never work because the intermediate object on which we are setting values always behaves as a copy.\n\nFor example, when doing 'df[col].method(value, inplace=True)', try using 'df.method({col: value}, inplace=True)' or df[col] = df[col].method(value) instead, to perform the operation inplace on the original object.\n\n\n  dataset_df.CC.fillna(dataset_df.CC.mean(),inplace=True) # Filling Missing values using Mean\n",
          "output_type": "stream"
        }
      ]
    },
    {
      "cell_type": "code",
      "source": [
        "dataset_df.isnull().sum()"
      ],
      "metadata": {
        "execution": {
          "iopub.status.busy": "2024-03-25T11:20:27.422110Z",
          "iopub.execute_input": "2024-03-25T11:20:27.422523Z",
          "iopub.status.idle": "2024-03-25T11:20:27.431764Z",
          "shell.execute_reply.started": "2024-03-25T11:20:27.422492Z",
          "shell.execute_reply": "2024-03-25T11:20:27.430776Z"
        },
        "trusted": true,
        "id": "0nioTBYmfbFx",
        "outputId": "d36e2b2e-ba53-42c7-c48f-3ecce59deaeb"
      },
      "execution_count": null,
      "outputs": [
        {
          "execution_count": 23,
          "output_type": "execute_result",
          "data": {
            "text/plain": "AB        0\nAF        0\nAH        0\nAM        0\nAR        0\nAX        0\nAY        0\nAZ        0\nBC        0\nBD        0\nBN        0\nBP        0\nBQ        0\nBR        0\nBZ        0\nCB        2\nCC        0\nCD        0\nCF        0\nCH        0\nCL        0\nCR        0\nCS        0\nCU        0\nCW        0\nDA        0\nDE        0\nDF        0\nDH        0\nDI        0\nDL        0\nDN        0\nDU        1\nDV        0\nDY        0\nEB        0\nEE        0\nEG        0\nEH        0\nEJ        0\nEL       60\nEP        0\nEU        0\nFC        1\nFD        0\nFE        0\nFI        0\nFL        1\nFR        0\nFS        2\nGB        0\nGE        0\nGF        0\nGH        0\nGI        0\nGL        1\nClass     0\ndtype: int64"
          },
          "metadata": {}
        }
      ]
    },
    {
      "cell_type": "code",
      "source": [
        "dataset_df.EL.unique(), dataset_df.EL.max()-dataset_df.EL.min()"
      ],
      "metadata": {
        "execution": {
          "iopub.status.busy": "2024-03-25T11:20:27.432954Z",
          "iopub.execute_input": "2024-03-25T11:20:27.433254Z"
        },
        "trusted": true,
        "id": "K_kVmgd8fbFx"
      },
      "execution_count": null,
      "outputs": []
    },
    {
      "cell_type": "code",
      "source": [
        "dataset_df.EL.fillna(dataset_df.EL.mean(),inplace=True) # Filling Missing values using Mean"
      ],
      "metadata": {
        "trusted": true,
        "id": "OEihQaUAfbFx"
      },
      "execution_count": null,
      "outputs": []
    },
    {
      "cell_type": "code",
      "source": [
        "dataset_df.isnull().sum()"
      ],
      "metadata": {
        "trusted": true,
        "id": "DLFDceNofbFx"
      },
      "execution_count": null,
      "outputs": []
    },
    {
      "cell_type": "code",
      "source": [
        "lst = list(dataset_df.isnull().sum())\n",
        "lst"
      ],
      "metadata": {
        "trusted": true,
        "id": "E_w-TdXpfbFy"
      },
      "execution_count": null,
      "outputs": []
    },
    {
      "cell_type": "code",
      "source": [
        "missing_col = []\n",
        "missing_rows = []\n",
        "for i in range(len(lst)):\n",
        "    if lst[i]>0:\n",
        "        missing_col.append(cols[i])\n",
        "        missing_rows.append(lst[i])\n",
        "missing_col,missing_rows"
      ],
      "metadata": {
        "trusted": true,
        "id": "mbtY_JOnfbFy"
      },
      "execution_count": null,
      "outputs": []
    },
    {
      "cell_type": "code",
      "source": [
        "dataset_df.CB.fillna(dataset_df.CB.mean(),inplace=True)\n",
        "dataset_df.DU.fillna(dataset_df.DU.mean(),inplace=True)\n",
        "dataset_df.FC.fillna(dataset_df.FC.mean(),inplace=True)\n",
        "dataset_df.FL.fillna(dataset_df.FL.mean(),inplace=True)\n",
        "dataset_df.FS.fillna(dataset_df.FS.mean(),inplace=True)\n",
        "dataset_df.GL.fillna(dataset_df.GL.mean(),inplace=True)"
      ],
      "metadata": {
        "trusted": true,
        "id": "t_9UqTAvfbFz"
      },
      "execution_count": null,
      "outputs": []
    },
    {
      "cell_type": "code",
      "source": [
        "dataset_df.isnull().sum()"
      ],
      "metadata": {
        "trusted": true,
        "id": "Y59GnrV_fbFz"
      },
      "execution_count": null,
      "outputs": []
    },
    {
      "cell_type": "code",
      "source": [
        "dataset_df.info()"
      ],
      "metadata": {
        "trusted": true,
        "id": "MiFWbct6fbF1"
      },
      "execution_count": null,
      "outputs": []
    },
    {
      "cell_type": "markdown",
      "source": [
        "# Encoding Categorical value - EJ"
      ],
      "metadata": {
        "id": "6fW3L8tbfbF1"
      }
    },
    {
      "cell_type": "code",
      "source": [
        "dataset_df.EJ.value_counts()"
      ],
      "metadata": {
        "trusted": true,
        "id": "MUR9MaZ4fbF1"
      },
      "execution_count": null,
      "outputs": []
    },
    {
      "cell_type": "code",
      "source": [
        "dataset_df.EJ.replace({\"B\":1, \"A\":0}, inplace=True)"
      ],
      "metadata": {
        "trusted": true,
        "id": "13GnrRgHfbF1"
      },
      "execution_count": null,
      "outputs": []
    },
    {
      "cell_type": "code",
      "source": [
        "dataset_df.EJ.value_counts()"
      ],
      "metadata": {
        "trusted": true,
        "id": "cgHO1CQXfbF2"
      },
      "execution_count": null,
      "outputs": []
    },
    {
      "cell_type": "code",
      "source": [
        "dataset_df.info()"
      ],
      "metadata": {
        "trusted": true,
        "id": "kZwIAq7WfbF2"
      },
      "execution_count": null,
      "outputs": []
    },
    {
      "cell_type": "markdown",
      "source": [
        "# Step 5 EDA ( Explorative Data Analytics )"
      ],
      "metadata": {
        "id": "8N6589sWfbF2"
      }
    },
    {
      "cell_type": "markdown",
      "source": [
        "# Pie chart for label column: Class"
      ],
      "metadata": {
        "id": "49oGul0zfbF2"
      }
    },
    {
      "cell_type": "code",
      "source": [
        "plot_df = dataset_df.Class.value_counts()\n",
        "plot_df.plot(kind=\"pie\")"
      ],
      "metadata": {
        "trusted": true,
        "id": "kJrB8rXdfbF2"
      },
      "execution_count": null,
      "outputs": []
    },
    {
      "cell_type": "code",
      "source": [
        "plot_df = dataset_df.Class.value_counts()\n",
        "plot_df.plot(kind=\"bar\")"
      ],
      "metadata": {
        "trusted": true,
        "id": "gLXvwIU0fbF2"
      },
      "execution_count": null,
      "outputs": []
    },
    {
      "cell_type": "code",
      "source": [
        "f, ax = plt.subplots(figsize=(8, 6))\n",
        "ax = sns.countplot(x=\"Class\", data=dataset_df)\n",
        "plt.show()"
      ],
      "metadata": {
        "execution": {
          "iopub.status.busy": "2024-03-25T11:20:27.987309Z",
          "iopub.execute_input": "2024-03-25T11:20:27.987611Z",
          "iopub.status.idle": "2024-03-25T11:20:28.189198Z",
          "shell.execute_reply.started": "2024-03-25T11:20:27.987586Z",
          "shell.execute_reply": "2024-03-25T11:20:28.188183Z"
        },
        "trusted": true,
        "id": "DYPkhVtTfbF2",
        "outputId": "d39d25a7-9231-43d6-98b5-fd788d7281a4"
      },
      "execution_count": null,
      "outputs": [
        {
          "output_type": "display_data",
          "data": {
            "text/plain": "<Figure size 800x600 with 1 Axes>",
            "image/png": "[encoded data removed]"
          },
          "metadata": {}
        }
      ]
    },
    {
      "cell_type": "markdown",
      "source": [
        "### Observation\n",
        "\n",
        "- Class is imbalanced - balancing the Class is essential - using Sampling Tech - undersample / oversample"
      ],
      "metadata": {
        "id": "V0t17fsbfbF2"
      }
    },
    {
      "cell_type": "markdown",
      "source": [
        "# Univariate Analysis - One by Feature Analysis\n",
        "\n",
        "- BarPlot, Hist Plot, KDE Plot, Box Plot, Vilion Plot,"
      ],
      "metadata": {
        "id": "3EB9HbmcfbF2"
      }
    },
    {
      "cell_type": "markdown",
      "source": [
        "# AB"
      ],
      "metadata": {
        "id": "6m7sA6FVfbF3"
      }
    },
    {
      "cell_type": "code",
      "source": [
        "dataset_df.columns"
      ],
      "metadata": {
        "execution": {
          "iopub.status.busy": "2024-03-25T11:20:28.190365Z",
          "iopub.execute_input": "2024-03-25T11:20:28.190605Z",
          "iopub.status.idle": "2024-03-25T11:20:28.196723Z",
          "shell.execute_reply.started": "2024-03-25T11:20:28.190583Z",
          "shell.execute_reply": "2024-03-25T11:20:28.195823Z"
        },
        "trusted": true,
        "id": "5tgu4Z4VfbF3",
        "outputId": "94adc03e-a3da-47b2-b6f3-2a6e29bef3dd"
      },
      "execution_count": null,
      "outputs": [
        {
          "execution_count": 39,
          "output_type": "execute_result",
          "data": {
            "text/plain": "Index(['AB', 'AF', 'AH', 'AM', 'AR', 'AX', 'AY', 'AZ', 'BC', 'BD ', 'BN', 'BP',\n       'BQ', 'BR', 'BZ', 'CB', 'CC', 'CD ', 'CF', 'CH', 'CL', 'CR', 'CS', 'CU',\n       'CW ', 'DA', 'DE', 'DF', 'DH', 'DI', 'DL', 'DN', 'DU', 'DV', 'DY', 'EB',\n       'EE', 'EG', 'EH', 'EJ', 'EL', 'EP', 'EU', 'FC', 'FD ', 'FE', 'FI', 'FL',\n       'FR', 'FS', 'GB', 'GE', 'GF', 'GH', 'GI', 'GL', 'Class'],\n      dtype='object')"
          },
          "metadata": {}
        }
      ]
    },
    {
      "cell_type": "code",
      "source": [
        "plt.figure(figsize=(10, 6))\n",
        "fig, ax = plt.subplots()\n",
        "plt.xlabel('Rows of ICR DataSet')\n",
        "plt.title(\"Bar Plot for AB Feature of ICR Data\")\n",
        "sns.barplot(data=dataset_df, x=dataset_df.index, y='AB',label='AB')\n",
        "plt.legend()\n",
        "plt.show()"
      ],
      "metadata": {
        "execution": {
          "iopub.status.busy": "2024-03-25T11:20:28.197882Z",
          "iopub.execute_input": "2024-03-25T11:20:28.198220Z",
          "iopub.status.idle": "2024-03-25T11:20:34.191312Z",
          "shell.execute_reply.started": "2024-03-25T11:20:28.198177Z",
          "shell.execute_reply": "2024-03-25T11:20:34.190465Z"
        },
        "trusted": true,
        "id": "46QAnYNIfbF3",
        "outputId": "3bd41994-d5b1-4123-ce39-15da6ea86e84"
      },
      "execution_count": null,
      "outputs": [
        {
          "output_type": "display_data",
          "data": {
            "text/plain": "<Figure size 1000x600 with 0 Axes>"
          },
          "metadata": {}
        },
        {
          "output_type": "display_data",
          "data": {
            "text/plain": "<Figure size 640x480 with 1 Axes>",
            "image/png": "[encoded data removed]"
          },
          "metadata": {}
        }
      ]
    },
    {
      "cell_type": "code",
      "source": [
        "plt.figure(figsize=(10, 6))\n",
        "fig, ax = plt.subplots()\n",
        "plt.ylabel('Class')\n",
        "plt.title(\"Bar Plot for ICR Data - Class vs AB\")\n",
        "sns.barplot(data=dataset_df, x='AB',y='Class', label='AB')\n",
        "plt.legend()\n",
        "plt.show()"
      ],
      "metadata": {
        "execution": {
          "iopub.status.busy": "2024-03-25T11:20:34.192352Z",
          "iopub.execute_input": "2024-03-25T11:20:34.192624Z",
          "iopub.status.idle": "2024-03-25T11:20:41.125905Z",
          "shell.execute_reply.started": "2024-03-25T11:20:34.192599Z",
          "shell.execute_reply": "2024-03-25T11:20:41.124944Z"
        },
        "trusted": true,
        "id": "PCmi4rsTfbF4",
        "outputId": "5a2e8f08-c545-4e81-f9e8-5e5563fab274"
      },
      "execution_count": null,
      "outputs": [
        {
          "output_type": "display_data",
          "data": {
            "text/plain": "<Figure size 1000x600 with 0 Axes>"
          },
          "metadata": {}
        },
        {
          "output_type": "display_data",
          "data": {
            "text/plain": "<Figure size 640x480 with 1 Axes>",
            "image/png": "[encoded data removed]"
          },
          "metadata": {}
        }
      ]
    },
    {
      "cell_type": "code",
      "source": [
        "plt.figure(figsize=(10, 6))\n",
        "fig, ax = plt.subplots()\n",
        "plt.ylabel('Class')\n",
        "plt.title(\"Bar Plot for ICR Data - Class vs AB\")\n",
        "sns.barplot(data=dataset_df.iloc[:10,:], x='AB',y='Class', label='AB')\n",
        "plt.legend()\n",
        "plt.show()"
      ],
      "metadata": {
        "execution": {
          "iopub.status.busy": "2024-03-25T11:20:41.127308Z",
          "iopub.execute_input": "2024-03-25T11:20:41.127753Z",
          "iopub.status.idle": "2024-03-25T11:20:41.485762Z",
          "shell.execute_reply.started": "2024-03-25T11:20:41.127717Z",
          "shell.execute_reply": "2024-03-25T11:20:41.484759Z"
        },
        "trusted": true,
        "id": "jEJbtBAdfbF4",
        "outputId": "f83b9b9d-498c-4fe3-c82e-3c10f0e7e333"
      },
      "execution_count": null,
      "outputs": [
        {
          "output_type": "display_data",
          "data": {
            "text/plain": "<Figure size 1000x600 with 0 Axes>"
          },
          "metadata": {}
        },
        {
          "output_type": "display_data",
          "data": {
            "text/plain": "<Figure size 640x480 with 1 Axes>",
            "image/png": "[encoded data removed]"
          },
          "metadata": {}
        }
      ]
    },
    {
      "cell_type": "code",
      "source": [
        "sns.histplot(data = dataset_df,x=\"AB\")"
      ],
      "metadata": {
        "execution": {
          "iopub.status.busy": "2024-03-25T11:20:41.487032Z",
          "iopub.execute_input": "2024-03-25T11:20:41.487371Z",
          "iopub.status.idle": "2024-03-25T11:20:41.901326Z",
          "shell.execute_reply.started": "2024-03-25T11:20:41.487335Z",
          "shell.execute_reply": "2024-03-25T11:20:41.900354Z"
        },
        "trusted": true,
        "id": "tG_ZuOXPfbF4",
        "outputId": "67f9d120-af94-4325-b8be-4e50f20e625b"
      },
      "execution_count": null,
      "outputs": [
        {
          "name": "stderr",
          "text": "/opt/conda/lib/python3.10/site-packages/seaborn/_oldcore.py:1119: FutureWarning: use_inf_as_na option is deprecated and will be removed in a future version. Convert inf values to NaN before operating instead.\n  with pd.option_context('mode.use_inf_as_na', True):\n",
          "output_type": "stream"
        },
        {
          "execution_count": 43,
          "output_type": "execute_result",
          "data": {
            "text/plain": "<Axes: xlabel='AB', ylabel='Count'>"
          },
          "metadata": {}
        },
        {
          "output_type": "display_data",
          "data": {
            "text/plain": "<Figure size 640x480 with 1 Axes>",
            "image/png": "[encoded data removed]"
          },
          "metadata": {}
        }
      ]
    },
    {
      "cell_type": "markdown",
      "source": [
        "# observation\n",
        "- Right Skewed Distribution\n",
        "- Outlier Exist"
      ],
      "metadata": {
        "id": "aa5ecxUWfbF5"
      }
    },
    {
      "cell_type": "code",
      "source": [
        "sns.kdeplot(data =dataset_df, x=\"AB\",fill=\"True\", color =\"r\")"
      ],
      "metadata": {
        "execution": {
          "iopub.status.busy": "2024-03-25T11:20:41.902392Z",
          "iopub.execute_input": "2024-03-25T11:20:41.902644Z",
          "iopub.status.idle": "2024-03-25T11:20:42.224584Z",
          "shell.execute_reply.started": "2024-03-25T11:20:41.902622Z",
          "shell.execute_reply": "2024-03-25T11:20:42.223675Z"
        },
        "trusted": true,
        "id": "-14aJe3ufbF5",
        "outputId": "e11e98ad-d569-48bb-f1cb-7f5a57e8adb8"
      },
      "execution_count": null,
      "outputs": [
        {
          "name": "stderr",
          "text": "/opt/conda/lib/python3.10/site-packages/seaborn/_oldcore.py:1119: FutureWarning: use_inf_as_na option is deprecated and will be removed in a future version. Convert inf values to NaN before operating instead.\n  with pd.option_context('mode.use_inf_as_na', True):\n",
          "output_type": "stream"
        },
        {
          "execution_count": 44,
          "output_type": "execute_result",
          "data": {
            "text/plain": "<Axes: xlabel='AB', ylabel='Density'>"
          },
          "metadata": {}
        },
        {
          "output_type": "display_data",
          "data": {
            "text/plain": "<Figure size 640x480 with 1 Axes>",
            "image/png": "[encoded data removed]"
          },
          "metadata": {}
        }
      ]
    },
    {
      "cell_type": "code",
      "source": [
        "# Draw a nested boxplot to show bills by day and time\n",
        "plt.title(\"Box Plot for ICR Data \")\n",
        "sns.boxplot(x=\"Class\",y=\"AB\",data=dataset_df)"
      ],
      "metadata": {
        "execution": {
          "iopub.status.busy": "2024-03-25T11:20:42.225564Z",
          "iopub.execute_input": "2024-03-25T11:20:42.225808Z",
          "iopub.status.idle": "2024-03-25T11:20:42.500007Z",
          "shell.execute_reply.started": "2024-03-25T11:20:42.225786Z",
          "shell.execute_reply": "2024-03-25T11:20:42.498906Z"
        },
        "trusted": true,
        "id": "pQY6XetnfbF6",
        "outputId": "5da6d3b0-a668-445a-b639-53689f634026"
      },
      "execution_count": null,
      "outputs": [
        {
          "execution_count": 45,
          "output_type": "execute_result",
          "data": {
            "text/plain": "<Axes: title={'center': 'Box Plot for ICR Data '}, xlabel='Class', ylabel='AB'>"
          },
          "metadata": {}
        },
        {
          "output_type": "display_data",
          "data": {
            "text/plain": "<Figure size 640x480 with 1 Axes>",
            "image/png": "[encoded data removed]"
          },
          "metadata": {}
        }
      ]
    },
    {
      "cell_type": "code",
      "source": [
        "sns.violinplot(x = \"AB\",data = dataset_df)"
      ],
      "metadata": {
        "execution": {
          "iopub.status.busy": "2024-03-25T11:20:42.501249Z",
          "iopub.execute_input": "2024-03-25T11:20:42.502107Z",
          "iopub.status.idle": "2024-03-25T11:20:42.770072Z",
          "shell.execute_reply.started": "2024-03-25T11:20:42.502081Z",
          "shell.execute_reply": "2024-03-25T11:20:42.769208Z"
        },
        "trusted": true,
        "id": "khznMHi0fbF6",
        "outputId": "f7b496da-2fe8-4221-e416-aa831d41b50c"
      },
      "execution_count": null,
      "outputs": [
        {
          "execution_count": 46,
          "output_type": "execute_result",
          "data": {
            "text/plain": "<Axes: xlabel='AB'>"
          },
          "metadata": {}
        },
        {
          "output_type": "display_data",
          "data": {
            "text/plain": "<Figure size 640x480 with 1 Axes>",
            "image/png": "[encoded data removed]"
          },
          "metadata": {}
        }
      ]
    },
    {
      "cell_type": "code",
      "source": [
        "sns.violinplot(x = \"Class\", y = \"AB\",data = dataset_df)"
      ],
      "metadata": {
        "execution": {
          "iopub.status.busy": "2024-03-25T11:20:42.771088Z",
          "iopub.execute_input": "2024-03-25T11:20:42.771323Z",
          "iopub.status.idle": "2024-03-25T11:20:43.065753Z",
          "shell.execute_reply.started": "2024-03-25T11:20:42.771301Z",
          "shell.execute_reply": "2024-03-25T11:20:43.064823Z"
        },
        "trusted": true,
        "id": "NO07IRzMfbF6",
        "outputId": "c8dd3875-f7e8-472b-a00f-a75987b47037"
      },
      "execution_count": null,
      "outputs": [
        {
          "execution_count": 47,
          "output_type": "execute_result",
          "data": {
            "text/plain": "<Axes: xlabel='Class', ylabel='AB'>"
          },
          "metadata": {}
        },
        {
          "output_type": "display_data",
          "data": {
            "text/plain": "<Figure size 640x480 with 1 Axes>",
            "image/png": "[encoded data removed]"
          },
          "metadata": {}
        }
      ]
    },
    {
      "cell_type": "code",
      "source": [
        "# Store all the numerical column names into a list\n",
        "NUM_FEATURE_COLUMNS = [i for i in dataset_df.columns if i not in [\"EJ\", \"Class\"]]"
      ],
      "metadata": {
        "execution": {
          "iopub.status.busy": "2024-03-25T11:20:43.066997Z",
          "iopub.execute_input": "2024-03-25T11:20:43.067362Z",
          "iopub.status.idle": "2024-03-25T11:20:43.072499Z",
          "shell.execute_reply.started": "2024-03-25T11:20:43.067329Z",
          "shell.execute_reply": "2024-03-25T11:20:43.071357Z"
        },
        "trusted": true,
        "id": "fsxPfhPAfbF7"
      },
      "execution_count": null,
      "outputs": []
    },
    {
      "cell_type": "code",
      "source": [
        "figure, axis = plt.subplots(3, 2, figsize=(15, 15))\n",
        "plt.subplots_adjust(hspace=0.25, wspace=0.3)\n",
        "\n",
        "for i, column_name in enumerate(NUM_FEATURE_COLUMNS[:6]):\n",
        "    row = i//2\n",
        "    col = i % 2\n",
        "    bp = sns.barplot(ax=axis[row, col], x=dataset_df.index, y=dataset_df[column_name])\n",
        "    bp.set(xticklabels=[])\n",
        "    #bp.set_xticklabels(bp.get_xticklabels(), rotation=90, size = 7)\n",
        "    axis[row, col].set_title(column_name)\n",
        "plt.show()"
      ],
      "metadata": {
        "execution": {
          "iopub.status.busy": "2024-03-25T11:20:43.073744Z",
          "iopub.execute_input": "2024-03-25T11:20:43.074588Z"
        },
        "trusted": true,
        "id": "I6O_TGoFfbF7"
      },
      "execution_count": null,
      "outputs": []
    },
    {
      "cell_type": "code",
      "source": [
        "figure, axis = plt.subplots(3, 2, figsize=(15, 15))\n",
        "plt.subplots_adjust(hspace=0.25, wspace=0.3)\n",
        "\n",
        "for i, column_name in enumerate(NUM_FEATURE_COLUMNS[6:12]):\n",
        "    row = i//2\n",
        "    col = i % 2\n",
        "    bp = sns.barplot(ax=axis[row, col], x=dataset_df.index, y=dataset_df[column_name])\n",
        "    bp.set(xticklabels=[])\n",
        "    #bp.set_xticklabels(bp.get_xticklabels(), rotation=90, size = 7)\n",
        "    axis[row, col].set_title(column_name)\n",
        "plt.show()"
      ],
      "metadata": {
        "trusted": true,
        "id": "vBOUDpxPfbF7"
      },
      "execution_count": null,
      "outputs": []
    },
    {
      "cell_type": "markdown",
      "source": [
        "# Analytics"
      ],
      "metadata": {
        "id": "Ao4MpVgRfbF7"
      }
    },
    {
      "cell_type": "markdown",
      "source": [
        "# 1. Univariate Analysis:\n",
        "\n",
        "- Data consists of only one variable (only x value).\n",
        "\n",
        ">- a. Line Plots / Bar Charts\n",
        ">- b. Histograms\n",
        ">- c. Box Plots\n",
        ">- d. Count Plots\n",
        ">- e. Descriptive Statistics techniques\n",
        ">- f. Violin Plot\n",
        "\n",
        "# 2. Bivariate Analysis:\n",
        "\n",
        "- When we talk about bivariate analysis, it means analyzing 2 variables. Since we know there are numerical and categorical variables, there is a way of analyzing these variables as shown below:\n",
        "\n",
        "i) Numerical & Numerical\n",
        "\n",
        "   >- a. Scatterplot\n",
        "   >- b. Line plot\n",
        "   >- c. Heatmap for correlation\n",
        "   >- d. Joint plot\n",
        "\n",
        "ii) Numerical & Categorical\n",
        "\n",
        "   >- a. Bar chart\n",
        "   >- b. Violin plot\n",
        "   >- c. Categorical box plot\n",
        "   >- d. Swarm plot\n",
        "\n",
        "iii) Categorical & Categorical\n",
        "\n",
        "   >- a. Bar chart\n",
        "   >- b. Grouped bar chart\n",
        "   >- c. Point plot\n",
        "\n",
        "3. Multivariate Analysis:\n",
        "In the case of 3 or more variables\n",
        "\n",
        "   >- a. Pair Plot\n",
        "   >- b. GridPlot/Joint\n",
        "   \n",
        "   \n",
        "2 Most important Plots\n",
        "\n",
        "- Scatter Plot / Pair Plot\n",
        ">> Correlation  \n",
        "- HeatMap\n",
        ">> Correlation Coff with Color map\n",
        "\n",
        "\n",
        "- Covariance\n",
        "- Feature Importance\n"
      ],
      "metadata": {
        "id": "dQqIlMncfbF7"
      }
    },
    {
      "cell_type": "markdown",
      "source": [
        "# Read Made tools for Analysis\n",
        "- Pandas Profiling\n",
        "- sweetviz"
      ],
      "metadata": {
        "id": "LkzMYYbcfbF7"
      }
    },
    {
      "cell_type": "markdown",
      "source": [
        "# sweetviz"
      ],
      "metadata": {
        "id": "M30Be7IxfbF7"
      }
    },
    {
      "cell_type": "code",
      "source": [
        "!pip install sweetviz"
      ],
      "metadata": {
        "trusted": true,
        "id": "y8S0dhGYfbF7"
      },
      "execution_count": null,
      "outputs": []
    },
    {
      "cell_type": "code",
      "source": [
        "import sweetviz as sv\n",
        "#my_report = sv.analyze(dataset_df)\n",
        "#my_report.show_notebook() # if working in Kaggle"
      ],
      "metadata": {
        "trusted": true,
        "id": "uGUIy0kgfbF7"
      },
      "execution_count": null,
      "outputs": []
    },
    {
      "cell_type": "markdown",
      "source": [
        "# Multivariate Analysis"
      ],
      "metadata": {
        "id": "cMBcqXD2fbF8"
      }
    },
    {
      "cell_type": "code",
      "source": [
        "## Scatter pair Plot, Joint Plots\n",
        "## HeatMap\n",
        "## Correlation\n",
        "## Feature Importance"
      ],
      "metadata": {
        "trusted": true,
        "id": "sh9V_-uPfbF8"
      },
      "execution_count": null,
      "outputs": []
    },
    {
      "cell_type": "markdown",
      "source": [
        "# Correlation & Covariance"
      ],
      "metadata": {
        "id": "fHsxKbcHfbF8"
      }
    },
    {
      "cell_type": "code",
      "source": [
        "dataset_df.corr()"
      ],
      "metadata": {
        "trusted": true,
        "id": "lROIvAG7fbF8"
      },
      "execution_count": null,
      "outputs": []
    },
    {
      "cell_type": "code",
      "source": [
        "dataset_df.cov()"
      ],
      "metadata": {
        "trusted": true,
        "id": "BxCvexHhfbF8"
      },
      "execution_count": null,
      "outputs": []
    },
    {
      "cell_type": "markdown",
      "source": [
        "# Scatter Plot - Pair Plot"
      ],
      "metadata": {
        "id": "0-luLsDgfbF8"
      }
    },
    {
      "cell_type": "code",
      "source": [
        "sns.scatterplot(x=dataset_df[\"AB\"], y=dataset_df[\"AM\"])"
      ],
      "metadata": {
        "trusted": true,
        "id": "WtvKXgTtfbF8"
      },
      "execution_count": null,
      "outputs": []
    },
    {
      "cell_type": "code",
      "source": [
        "sns.scatterplot(x=dataset_df[\"BC\"], y=dataset_df[\"BZ\"])"
      ],
      "metadata": {
        "trusted": true,
        "id": "3cWAH31ifbF8"
      },
      "execution_count": null,
      "outputs": []
    },
    {
      "cell_type": "code",
      "source": [
        "# Pair Plot - for All Feature"
      ],
      "metadata": {
        "trusted": true,
        "id": "UZ9Bq6PHfbF9"
      },
      "execution_count": null,
      "outputs": []
    },
    {
      "cell_type": "code",
      "source": [
        "sns.pairplot(data=dataset_df.iloc[:,:5])"
      ],
      "metadata": {
        "trusted": true,
        "id": "0FtmaOJNfbF9"
      },
      "execution_count": null,
      "outputs": []
    },
    {
      "cell_type": "markdown",
      "source": [
        "# Few Joint Plots"
      ],
      "metadata": {
        "id": "VaTpdu_ifbF9"
      }
    },
    {
      "cell_type": "code",
      "source": [
        "sns.jointplot(data=dataset_df,\n",
        "      x='AM',\n",
        "      y = 'AF',\n",
        "      hue =\"Class\")"
      ],
      "metadata": {
        "trusted": true,
        "id": "iKuZZt3TfbF9"
      },
      "execution_count": null,
      "outputs": []
    },
    {
      "cell_type": "markdown",
      "source": [
        "# Joint Plot = DA vs BR"
      ],
      "metadata": {
        "id": "UeOTeX4DfbF9"
      }
    },
    {
      "cell_type": "code",
      "source": [
        "sns.jointplot(data=dataset_df,\n",
        "      x='BC',\n",
        "      y = 'BZ', hue =\"Class\")"
      ],
      "metadata": {
        "trusted": true,
        "id": "bUAEoGkwfbF9"
      },
      "execution_count": null,
      "outputs": []
    },
    {
      "cell_type": "code",
      "source": [
        "sns.jointplot(data=dataset_df,\n",
        "      x='DA',\n",
        "      y = 'BR', hue =\"Class\")"
      ],
      "metadata": {
        "trusted": true,
        "id": "jUf-Vf0VfbF-"
      },
      "execution_count": null,
      "outputs": []
    },
    {
      "cell_type": "code",
      "source": [
        "sns.jointplot(data=dataset_df,\n",
        "      x='AM',\n",
        "      y = 'AF',\n",
        "      kind=\"reg\")"
      ],
      "metadata": {
        "trusted": true,
        "id": "Sc05paqKfbF-"
      },
      "execution_count": null,
      "outputs": []
    },
    {
      "cell_type": "markdown",
      "source": [
        "# Heat Map"
      ],
      "metadata": {
        "id": "VgvsgJQVfbF-"
      }
    },
    {
      "cell_type": "code",
      "source": [
        "sns.heatmap(dataset_df.corr(),annot =True)"
      ],
      "metadata": {
        "trusted": true,
        "id": "ANwtiS35fbF-"
      },
      "execution_count": null,
      "outputs": []
    },
    {
      "cell_type": "code",
      "source": [
        "plt.figure(figsize=(15, 15))\n",
        "\n",
        "sns.heatmap(dataset_df.iloc[:,:15].corr(),annot =True)"
      ],
      "metadata": {
        "trusted": true,
        "id": "NsVpcCKnfbF-"
      },
      "execution_count": null,
      "outputs": []
    },
    {
      "cell_type": "markdown",
      "source": [
        "# Observation\n",
        "\n",
        "1. How Feature is correlated with Class/Target\n",
        "2. How each feature is correlated with Other - Correlation is close to 1.. Then drop one of these two"
      ],
      "metadata": {
        "id": "DKpaUzLNfbF-"
      }
    },
    {
      "cell_type": "markdown",
      "source": [
        "# Box Plot - Using CataPlot"
      ],
      "metadata": {
        "id": "7ctl48uyfbF-"
      }
    },
    {
      "cell_type": "code",
      "source": [
        "sns.catplot(x=\"DA\", y=\"BR\", hue= 'Class', data = dataset_df, kind =\"box\")"
      ],
      "metadata": {
        "trusted": true,
        "id": "DDCxLQl0fbF-"
      },
      "execution_count": null,
      "outputs": []
    },
    {
      "cell_type": "markdown",
      "source": [
        "# Handling Outliers - By Data Transformation Ways"
      ],
      "metadata": {
        "id": "fJpB2D25fbF-"
      }
    },
    {
      "cell_type": "markdown",
      "source": [
        "# Handling Outliers:\n",
        "\n",
        "Once we’ve identified the outliers, we need to handle them correctly. Here are some common methods for handling outliers:\n",
        "\n",
        "1. Removing outliers: One of the simplest methods to handle outliers is to remove them from the dataset. It should be used with caution, though, since it can lead to loss of information and bias.\n",
        "\n",
        "2. Transforming data: Transforming data is another method to handle outliers. To reduce the impact of outliers, we can use mathematical functions like logarithms, square roots, or reciprocals. Transforming data can also help to normalize the distribution and make it easier to analyze.\n",
        "\n",
        "3. Winsorization: Winsorization is a method that replaces extreme values with less extreme values. In this method, we replace the extreme values with the maximum or minimum values of the dataset. This method can be useful when we have a small number of outliers that are very different from the rest of the data.\n",
        "\n",
        "4. Robust statistical methods: Robust statistical methods are designed to handle outliers and are less sensitive to extreme values. For example, instead of calculating the mean, we can use the median or mode, which are less affected by outliers."
      ],
      "metadata": {
        "id": "KAtzuVD6fbF_"
      }
    },
    {
      "cell_type": "markdown",
      "source": [
        "## IsolationForest"
      ],
      "metadata": {
        "id": "l3jAVn2efbF_"
      }
    },
    {
      "cell_type": "code",
      "source": [
        "# Store all the numerical column names into a list\n",
        "NUM_FEATURE_COLUMNS = [i for i in dataset_df.columns if i not in [\"EJ\", \"Class\"]]\n",
        "NUM_FEATURE_COLUMNS"
      ],
      "metadata": {
        "trusted": true,
        "id": "cnh6MQQifbF_"
      },
      "execution_count": null,
      "outputs": []
    },
    {
      "cell_type": "code",
      "source": [
        "from sklearn.ensemble import IsolationForest\n",
        "# Create an Isolation Forest model\n",
        "iso_forest = IsolationForest(contamination=0.05) # Adjust contamination based on your dataset\n",
        "# Fit the model to your data\n",
        "iso_forest.fit(dataset_df)\n",
        "# Predict outliers\n",
        "outliers = iso_forest.predict(dataset_df)\n",
        "outliers"
      ],
      "metadata": {
        "trusted": true,
        "id": "HYMdFvfdfbGA"
      },
      "execution_count": null,
      "outputs": []
    },
    {
      "cell_type": "code",
      "source": [
        "from sklearn.ensemble import IsolationForest\n",
        "# Create an Isolation Forest model\n",
        "iso_forest = IsolationForest(contamination=0.05) # Adjust contamination based on your dataset\n",
        "# Fit the model to your data\n",
        "iso_forest.fit(dataset_df)\n",
        "# Predict outliers\n",
        "outliers = iso_forest.predict(dataset_df)\n",
        "dataset_df['outliers'] =outliers"
      ],
      "metadata": {
        "trusted": true,
        "id": "asP0VELifbGA"
      },
      "execution_count": null,
      "outputs": []
    },
    {
      "cell_type": "code",
      "source": [
        "from sklearn.ensemble import IsolationForest\n",
        "# Create an Isolation Forest model\n",
        "iso_forest = IsolationForest(contamination=0.05) # Adjust contamination based on your dataset\n",
        "df_list_iso = []\n",
        "df_list_iso_out = []\n",
        "for i in NUM_FEATURE_COLUMNS:\n",
        "    # Fit the model to the feature data and predict outliers\n",
        "    outliers = iso_forest.fit_predict(dataset_df[[i]])\n",
        "    #outliers_2 = dataset_df[(dataset_df[i]>upper)|(dataset_df[i]<lower)]\n",
        "    #print(outliers)\n",
        "    # Filter out rows with outliers\n",
        "    dataset_df_1 = dataset_df[outliers == -1]\n",
        "    print(dataset_df_1.shape)\n",
        "    df_list_iso.append(outliers)\n",
        "    df_list_iso_out.append(dataset_df_1)\n",
        "    #dataset_df_outlier_removed = dataset_df[outliers == 1]\n",
        "    #print(dataset_df_1.shape)"
      ],
      "metadata": {
        "trusted": true,
        "id": "eQ-jnxLyfbGA"
      },
      "execution_count": null,
      "outputs": []
    },
    {
      "cell_type": "markdown",
      "source": [
        "## zscore"
      ],
      "metadata": {
        "id": "3S5BIXRjfbGA"
      }
    },
    {
      "cell_type": "code",
      "source": [
        "# Store all the numerical column names into a list\n",
        "NUM_FEATURE_COLUMNS = [i for i in dataset_df.columns if i not in [\"EJ\", \"Class\"]]\n",
        "NUM_FEATURE_COLUMNS"
      ],
      "metadata": {
        "trusted": true,
        "id": "tj8-c3-4fbGA"
      },
      "execution_count": null,
      "outputs": []
    },
    {
      "cell_type": "code",
      "source": [
        "from scipy.stats import zscore\n",
        "# Calculate Z-scores for each data point\n",
        "z_scores = zscore(dataset_df)\n",
        "# Define a threshold for identifying outliers\n",
        "threshold = 3\n",
        "# Identify outliers\n",
        "outliers_1 = (z_scores > threshold) | (z_scores < -threshold)\n",
        "outliers_1"
      ],
      "metadata": {
        "trusted": true,
        "id": "WwG66QL9fbGA"
      },
      "execution_count": null,
      "outputs": []
    },
    {
      "cell_type": "code",
      "source": [
        "\n",
        "# Calculate Z-scores for each data point\n",
        "z_scores = zscore(dataset_df)\n",
        "# Define a threshold for identifying outliers\n",
        "threshold = 3\n",
        "# Identify outliers\n",
        "outliers_1 = (z_scores > threshold) | (z_scores < -threshold)\n",
        "outliers_1"
      ],
      "metadata": {
        "trusted": true,
        "id": "dAq8wqcefbGB"
      },
      "execution_count": null,
      "outputs": []
    },
    {
      "cell_type": "code",
      "source": [
        "from scipy.stats import zscore\n",
        "df_list_z = []\n",
        "for i in NUM_FEATURE_COLUMNS:\n",
        "    # Calculate Z-scores for each data point\n",
        "    z_scores = zscore(dataset_df[i])\n",
        "    #print('ZScore value of {} is {}'.format(i,z_scores))\n",
        "    threshold = 3\n",
        "    outliers_2 = dataset_df[(z_scores > threshold) | (z_scores < -threshold)]\n",
        "    print(outliers_2.shape)\n",
        "    df_list_z.append(outliers_2)\n",
        "    #dataset_df_outlier_2 = dataset_df[~outliers_2.index]"
      ],
      "metadata": {
        "trusted": true,
        "id": "MY2uz_gLfbGC"
      },
      "execution_count": null,
      "outputs": []
    },
    {
      "cell_type": "code",
      "source": [
        "df_list_z[0].head()"
      ],
      "metadata": {
        "trusted": true,
        "id": "LhWZpSbvfbGC"
      },
      "execution_count": null,
      "outputs": []
    },
    {
      "cell_type": "markdown",
      "source": [
        "# IQR Method"
      ],
      "metadata": {
        "id": "RuwnjB7pfbGC"
      }
    },
    {
      "cell_type": "code",
      "source": [
        "Upper_Limit = []\n",
        "Lower_Limit = []\n",
        "df_list_iqr = []\n",
        "for i in NUM_FEATURE_COLUMNS:\n",
        "    # the boundary values are:\n",
        "    q1 = dataset_df[i].quantile(0.25)\n",
        "    q3 = dataset_df[i].quantile(0.75)\n",
        "    iqr = q3 - q1\n",
        "    lower = round(q1-1.5*iqr,3)\n",
        "    upper = round(q3+1.5*iqr,3)\n",
        "    print('Upper Fench value of {} is {}'.format(i,upper))\n",
        "    print('Lower Fench of {} is {}'.format( i,lower ))\n",
        "    Upper_Limit.append(upper)\n",
        "    Lower_Limit.append(lower)\n",
        "    outliers_2 = dataset_df[(dataset_df[i]>upper)|(dataset_df[i]<lower)]\n",
        "    print(outliers_2.shape)\n",
        "    df_list_iqr.append(outliers_2)"
      ],
      "metadata": {
        "trusted": true,
        "id": "AxoaJXNFfbGC"
      },
      "execution_count": null,
      "outputs": []
    },
    {
      "cell_type": "markdown",
      "source": [
        "# Std Division"
      ],
      "metadata": {
        "id": "VDEYe8nbfbGD"
      }
    },
    {
      "cell_type": "code",
      "source": [
        "Upper_Limit = []\n",
        "Lower_Limit = []\n",
        "df_list = []\n",
        "for i in NUM_FEATURE_COLUMNS:\n",
        "    # the boundary values are:\n",
        "    lower = round(dataset_df[i].mean()-3*dataset_df[i].std(),3)\n",
        "    upper = round(dataset_df[i].mean()+3*dataset_df[i].std(),3)\n",
        "    print('Highest value of {} is {}'.format(i,upper))\n",
        "    print('Lowest value of {} is {}'.format( i,lower ))\n",
        "    Upper_Limit.append(upper)\n",
        "    Lower_Limit.append(lower)\n",
        "    outliers_2 = dataset_df[(dataset_df[i]>upper)|(dataset_df[i]<lower)]\n",
        "    print(outliers_2.shape)\n",
        "    df_list.append(outliers_2)"
      ],
      "metadata": {
        "trusted": true,
        "id": "TBM_DlnHfbGD"
      },
      "execution_count": null,
      "outputs": []
    },
    {
      "cell_type": "markdown",
      "source": [
        "# Visualization\n",
        "\n",
        "- Presence of outliers can also be detected by using various visualization methods. Some of the famous plots include:\n",
        "\n",
        ">- Scatter plot\n",
        "\n",
        ">- Box and Whisker plot\n",
        "\n",
        ">- Histogram\n",
        "\n",
        ">- Distribution Plot\n",
        "\n",
        ">- QQ plot"
      ],
      "metadata": {
        "id": "5WliJbkcfbGD"
      }
    },
    {
      "cell_type": "markdown",
      "source": [
        "# Outlier Treatment:\n",
        "\n",
        "## Removing Elements -"
      ],
      "metadata": {
        "id": "Ekj6vLgTfbGD"
      }
    },
    {
      "cell_type": "code",
      "source": [
        "for i in range(len(NUM_FEATURE_COLUMNS)):\n",
        "    # Get the indices of df2\n",
        "    indices_to_remove = df_list_z[i].index\n",
        "    print(indices_to_remove)\n",
        "    print(dataset_df.index)\n",
        "    indices_to_remove_new = indices_to_remove[indices_to_remove.isin(dataset_df.index)]\n",
        "    # Remove rows from df1 based on the indices of df2\n",
        "    print(indices_to_remove_new)\n",
        "    dataset_df = dataset_df.drop(indices_to_remove_new)\n",
        "dataset_df.shape"
      ],
      "metadata": {
        "trusted": true,
        "id": "NsbrRPaKfbGE"
      },
      "execution_count": null,
      "outputs": []
    },
    {
      "cell_type": "code",
      "source": [
        "dataset_df.head()"
      ],
      "metadata": {
        "trusted": true,
        "id": "tTtLP3BRfbGE"
      },
      "execution_count": null,
      "outputs": []
    },
    {
      "cell_type": "code",
      "source": [
        "dataset_df.info()"
      ],
      "metadata": {
        "trusted": true,
        "id": "SW0cFIyafbGE"
      },
      "execution_count": null,
      "outputs": []
    },
    {
      "cell_type": "markdown",
      "source": [
        "## Class Balancing"
      ],
      "metadata": {
        "id": "2j17zjKefbGF"
      }
    },
    {
      "cell_type": "code",
      "source": [
        "# Calculate the number of samples for each label.\n",
        "neg, pos = np.bincount(dataset_df['Class'])\n",
        "\n",
        "# Calculate total samples.\n",
        "total = neg + pos\n",
        "\n",
        "# Calculate the weight for each label.\n",
        "weight_for_0 = (1 / neg) * (total / 2.0)\n",
        "weight_for_1 = (1 / pos) * (total / 2.0)\n",
        "\n",
        "class_weight = {0: weight_for_0, 1: weight_for_1}\n",
        "\n",
        "print('Weight for class 0: {:.2f}'.format(weight_for_0))\n",
        "print('Weight for class 1: {:.2f}'.format(weight_for_1))"
      ],
      "metadata": {
        "trusted": true,
        "id": "0B6JhaKcfbGG"
      },
      "execution_count": null,
      "outputs": []
    },
    {
      "cell_type": "markdown",
      "source": [
        "# Imbalanced Classification : Over & Under Sampling"
      ],
      "metadata": {
        "id": "mODDSU3mfbGH"
      }
    },
    {
      "cell_type": "markdown",
      "source": [
        "<h2><center>Imbalanced Classification</center></h2>\n",
        "<div style=\"font-family:verdana; word-spacing:1.5px;\">\n",
        "Imbalanced classification involves developing predictive models on classification datasets that have a severe class imbalance. The challenge of working with imbalanced datasets is that most machine learning techniques will ignore, and in turn have poor performance on, the minority class, although typically it is performance on the minority class that is most important.\n",
        "</div>    \n",
        "    \n",
        "<h3><center>1. Over Sampling Methods </center></h3>\n",
        "<div style=\"font-family:verdana; word-spacing:1.5px;\">\n",
        "    A problem with imbalanced classification is that there are too few examples of the minority class for a model to effectively learn the decision boundary. One way to solve this problem is to oversample the examples in the minority class.<br><br>\n",
        "    The most widely used approach to synthesizing new examples is called the Synthetic Minority Oversampling TEchnique, or SMOTE for short.<br><br>\n",
        "    SMOTE works by selecting examples that are close in the feature space, drawing a line between the examples in the feature space and drawing a new sample at a point along that line.<br>\n",
        "Specifically, a random example from the minority class is first chosen. Then k of the nearest neighbors for that example are found (typically k = 5). A randomly selected neighbor is chosen and a synthetic example is created at a randomly selected point between the two examples in feature space."
      ],
      "metadata": {
        "id": "A9DnXuoQfbGH"
      }
    },
    {
      "cell_type": "markdown",
      "source": [
        "<h3>1.1. SMOTE for Balancing Data</h3>"
      ],
      "metadata": {
        "id": "Yn7elveTfbGH"
      }
    },
    {
      "cell_type": "code",
      "source": [
        "!pip install -q imblearn"
      ],
      "metadata": {
        "trusted": true,
        "id": "SoXAUZanfbGH"
      },
      "execution_count": null,
      "outputs": []
    },
    {
      "cell_type": "code",
      "source": [
        "import warnings\n",
        "warnings.filterwarnings('ignore')\n",
        "\n",
        "import numpy as np\n",
        "import pandas as pd\n",
        "\n",
        "from collections import Counter\n",
        "from sklearn.datasets import make_classification\n",
        "import matplotlib.pyplot as plt\n",
        "\n",
        "from sklearn.model_selection import cross_val_score\n",
        "from sklearn.model_selection import RepeatedStratifiedKFold\n",
        "from sklearn.tree import DecisionTreeClassifier\n",
        "from imblearn.pipeline import Pipeline\n",
        "\n",
        "from tqdm import tqdm_notebook as tqdm\n",
        "tqdm().pandas()"
      ],
      "metadata": {
        "trusted": true,
        "id": "VUVTaJuHfbGI"
      },
      "execution_count": null,
      "outputs": []
    },
    {
      "cell_type": "code",
      "source": [
        "X = dataset_df.drop([\"Class\",\"outliers\"],axis=1)\n",
        "X"
      ],
      "metadata": {
        "trusted": true,
        "id": "plppDBVrfbGI"
      },
      "execution_count": null,
      "outputs": []
    },
    {
      "cell_type": "code",
      "source": [
        "y = dataset_df[\"Class\"]"
      ],
      "metadata": {
        "trusted": true,
        "id": "2Jtb1EaWfbGI"
      },
      "execution_count": null,
      "outputs": []
    },
    {
      "cell_type": "code",
      "source": [
        "from imblearn.over_sampling import SMOTE\n",
        "\n",
        "counter = Counter(y)\n",
        "print(counter)\n",
        "\n",
        "oversample = SMOTE()\n",
        "X, y = oversample.fit_resample(X, y)\n",
        "\n",
        "counter = Counter(y)\n",
        "print(counter)"
      ],
      "metadata": {
        "trusted": true,
        "id": "HNPAw9HFfbGI"
      },
      "execution_count": null,
      "outputs": []
    },
    {
      "cell_type": "code",
      "source": [
        "X.head()"
      ],
      "metadata": {
        "trusted": true,
        "id": "vOMUoIMtfbGI"
      },
      "execution_count": null,
      "outputs": []
    },
    {
      "cell_type": "markdown",
      "source": [
        "# Basic Classification Model"
      ],
      "metadata": {
        "id": "9eNxI4pZfbGI"
      }
    },
    {
      "cell_type": "code",
      "source": [
        "# define model\n",
        "model = DecisionTreeClassifier()\n",
        "cv = RepeatedStratifiedKFold(n_splits=10, n_repeats=3, random_state=1)\n",
        "scores = cross_val_score(model, X, y, scoring='roc_auc', cv=cv, n_jobs=-1)\n",
        "\n",
        "print('Mean ROC AUC: %.3f' % np.mean(scores))"
      ],
      "metadata": {
        "trusted": true,
        "id": "4ghKhFvqfbGJ"
      },
      "execution_count": null,
      "outputs": []
    },
    {
      "cell_type": "code",
      "source": [
        "from sklearn.model_selection import cross_val_predict\n",
        "from sklearn.metrics import confusion_matrix\n",
        "y_pred = cross_val_predict(model, X, y, cv=10)\n",
        "conf_mat = confusion_matrix(y, y_pred)\n",
        "conf_mat"
      ],
      "metadata": {
        "trusted": true,
        "id": "K6YU5bGdfbGJ"
      },
      "execution_count": null,
      "outputs": []
    },
    {
      "cell_type": "code",
      "source": [
        "from sklearn.model_selection import cross_val_predict\n",
        "from sklearn.metrics import confusion_matrix\n",
        "scores = cross_val_score(model, X, y, scoring = 'accuracy',cv=10)\n",
        "print('Mean Accuracy : %.3f' % np.mean(scores))"
      ],
      "metadata": {
        "trusted": true,
        "id": "r9Rkkz6ZfbGJ"
      },
      "execution_count": null,
      "outputs": []
    },
    {
      "cell_type": "code",
      "source": [
        "!pip install mlxtend"
      ],
      "metadata": {
        "trusted": true,
        "id": "M0eyFmBofbGJ"
      },
      "execution_count": null,
      "outputs": []
    },
    {
      "cell_type": "code",
      "source": [
        "from mlxtend.plotting import plot_confusion_matrix\n",
        "fig, ax = plot_confusion_matrix(conf_mat=conf_mat)\n",
        "plt.show()"
      ],
      "metadata": {
        "trusted": true,
        "id": "RuGU4zBMfbGJ"
      },
      "execution_count": null,
      "outputs": []
    },
    {
      "cell_type": "code",
      "source": [
        "fig, ax = plot_confusion_matrix(conf_mat=conf_mat,\n",
        "                                show_absolute=True,\n",
        "                                show_normed=True,\n",
        "                                colorbar=True)\n",
        "plt.show()"
      ],
      "metadata": {
        "trusted": true,
        "id": "3dHmlndlfbGJ"
      },
      "execution_count": null,
      "outputs": []
    },
    {
      "cell_type": "code",
      "source": [
        "class_names = ['class a', 'class b']\n",
        "\n",
        "fig, ax = plot_confusion_matrix(conf_mat=conf_mat,\n",
        "                                colorbar=True,\n",
        "                                show_absolute=False,\n",
        "                                show_normed=True,\n",
        "                                class_names=class_names)\n",
        "plt.show()"
      ],
      "metadata": {
        "trusted": true,
        "id": "PrJdYv-AfbGJ"
      },
      "execution_count": null,
      "outputs": []
    },
    {
      "cell_type": "code",
      "source": [
        "fig, ax = plot_confusion_matrix(conf_mat=conf_mat,\n",
        "                                colorbar=True,\n",
        "                                fontcolor_threshold=1,\n",
        "                                cmap='summer',class_names=class_names)\n",
        "\n",
        "plt.show()"
      ],
      "metadata": {
        "trusted": true,
        "id": "sc14Yry5fbGJ"
      },
      "execution_count": null,
      "outputs": []
    },
    {
      "cell_type": "markdown",
      "source": [
        "# Classification"
      ],
      "metadata": {
        "id": "CHaM9UGvfbGK"
      }
    },
    {
      "cell_type": "code",
      "source": [
        "X = dataset_df.drop([\"Class\",\"outliers\"],axis=1)\n",
        "X"
      ],
      "metadata": {
        "trusted": true,
        "id": "ixeUbEubfbGK"
      },
      "execution_count": null,
      "outputs": []
    },
    {
      "cell_type": "code",
      "source": [
        "y = dataset_df[\"Class\"]"
      ],
      "metadata": {
        "trusted": true,
        "id": "IhZwJwWufbGK"
      },
      "execution_count": null,
      "outputs": []
    },
    {
      "cell_type": "code",
      "source": [
        "cv = RepeatedStratifiedKFold(n_splits=10, n_repeats=3, random_state=1)"
      ],
      "metadata": {
        "trusted": true,
        "id": "SBshAPKDfbGK"
      },
      "execution_count": null,
      "outputs": []
    },
    {
      "cell_type": "code",
      "source": [
        "steps = [('over', SMOTE()), ('model', DecisionTreeClassifier())]\n",
        "pipeline = Pipeline(steps=steps)\n",
        "scores = cross_val_score(pipeline, X, y, scoring='roc_auc', cv=cv, n_jobs=-1)\n",
        "\n",
        "print('Mean ROC AUC: %.3f' % np.mean(scores))"
      ],
      "metadata": {
        "trusted": true,
        "id": "G60pMInmfbGK"
      },
      "execution_count": null,
      "outputs": []
    },
    {
      "cell_type": "code",
      "source": [
        "X = dataset_df.drop([\"Class\",\"outliers\"],axis=1)\n",
        "X"
      ],
      "metadata": {
        "trusted": true,
        "id": "TG6IftEwfbGK"
      },
      "execution_count": null,
      "outputs": []
    },
    {
      "cell_type": "code",
      "source": [
        "y = dataset_df[\"Class\"]"
      ],
      "metadata": {
        "trusted": true,
        "id": "okrfBZycfbGK"
      },
      "execution_count": null,
      "outputs": []
    },
    {
      "cell_type": "code",
      "source": [
        "from imblearn.over_sampling import SMOTE\n",
        "\n",
        "counter = Counter(y)\n",
        "print(counter)\n",
        "\n",
        "oversample = SMOTE()\n",
        "X, y = oversample.fit_resample(X, y)\n",
        "\n",
        "counter = Counter(y)\n",
        "print(counter)"
      ],
      "metadata": {
        "trusted": true,
        "id": "IjkPRXE_fbGK"
      },
      "execution_count": null,
      "outputs": []
    },
    {
      "cell_type": "code",
      "source": [
        "model = DecisionTreeClassifier()\n",
        "cv = RepeatedStratifiedKFold(n_splits=10, n_repeats=3, random_state=1)\n",
        "scores = cross_val_score(model, X, y, scoring='roc_auc', cv=cv, n_jobs=-1)\n",
        "\n",
        "print('Mean ROC AUC: %.3f' % np.mean(scores))"
      ],
      "metadata": {
        "trusted": true,
        "id": "q5Tz2k6CfbGL"
      },
      "execution_count": null,
      "outputs": []
    },
    {
      "cell_type": "code",
      "source": [
        "X = dataset_df.drop([\"Class\",\"outliers\"],axis=1)\n",
        "X"
      ],
      "metadata": {
        "trusted": true,
        "id": "IRZ6WfsVfbGL"
      },
      "execution_count": null,
      "outputs": []
    },
    {
      "cell_type": "code",
      "source": [
        "y = dataset_df[\"Class\"]"
      ],
      "metadata": {
        "trusted": true,
        "id": "M_pqQm29fbGL"
      },
      "execution_count": null,
      "outputs": []
    },
    {
      "cell_type": "code",
      "source": [
        "k_values = [1,2,3,5,7]\n",
        "for k in tqdm(k_values):\n",
        "    over = SMOTE(sampling_strategy=0.55, k_neighbors=k)\n",
        "    steps = [('over', over), ('model', DecisionTreeClassifier())]\n",
        "    pipeline = Pipeline(steps=steps)\n",
        "    scores = cross_val_score(pipeline, X, y, scoring='accuracy', cv=cv, n_jobs=-1,error_score='raise')\n",
        "\n",
        "    print('k_neighbours :%d, Mean ROC AUC: %.3f' % (k,np.mean(scores)))"
      ],
      "metadata": {
        "trusted": true,
        "id": "Kd2yC0CDfbGL"
      },
      "execution_count": null,
      "outputs": []
    },
    {
      "cell_type": "markdown",
      "source": [
        "<h3>1.2. Border Line SMOTE</h3>\n",
        "<div style=\"font-family:verdana; word-spacing:1.5px;\">\n",
        "A popular extension to SMOTE involves selecting those instances of the minority class that are misclassified, such as with a k-nearest neighbor classification model. We can then oversample just those difficult instances, providing more resolution only where it may be required.<br><br>\n",
        "The examples on the borderline and the ones nearby are more apt to be misclassified than the ones far from the borderline, and thus more important for classification.\n",
        "    </div>"
      ],
      "metadata": {
        "id": "Qj_9kO71fbGL"
      }
    },
    {
      "cell_type": "code",
      "source": [
        "from imblearn.over_sampling import BorderlineSMOTE\n",
        "\n",
        "X = dataset_df.drop([\"Class\",\"outliers\"],axis=1)\n",
        "y = dataset_df[\"Class\"]\n",
        "\n",
        "counter = Counter(y)\n",
        "print(counter)\n",
        "\n",
        "oversample = BorderlineSMOTE()\n",
        "X, y = oversample.fit_resample(X, y)\n",
        "\n",
        "counter = Counter(y)\n",
        "print(counter)\n"
      ],
      "metadata": {
        "trusted": true,
        "id": "sN27S9SefbGL"
      },
      "execution_count": null,
      "outputs": []
    },
    {
      "cell_type": "code",
      "source": [
        "model = DecisionTreeClassifier()\n",
        "cv = RepeatedStratifiedKFold(n_splits=10, n_repeats=3, random_state=1)\n",
        "scores = cross_val_score(model, X, y, scoring='roc_auc', cv=cv, n_jobs=-1)\n",
        "\n",
        "print('Mean ROC AUC: %.3f' % np.mean(scores))"
      ],
      "metadata": {
        "trusted": true,
        "id": "NY51QZCpfbGL"
      },
      "execution_count": null,
      "outputs": []
    },
    {
      "cell_type": "code",
      "source": [
        "k_values = [1,2,3,5,7]\n",
        "for k in tqdm(k_values):\n",
        "    over = BorderlineSMOTE(k_neighbors=k)\n",
        "    steps = [('over', over), ('model', DecisionTreeClassifier())]\n",
        "    pipeline = Pipeline(steps=steps)\n",
        "    scores = cross_val_score(pipeline, X, y, scoring='accuracy', cv=cv, n_jobs=-1,error_score='raise')\n",
        "\n",
        "    print('k_neighbours :%d, Mean ROC AUC: %.3f' % (k,np.mean(scores)))"
      ],
      "metadata": {
        "trusted": true,
        "id": "BInjJnIAfbGL"
      },
      "execution_count": null,
      "outputs": []
    },
    {
      "cell_type": "markdown",
      "source": [
        "<h3>1.3. Adaptive Synthetic Sampling (ADASYN)</h3>\n",
        "<div style=\"font-family:verdana; word-spacing:1.9px;\">\n",
        "Another approach involves generating synthetic samples inversely proportional to the density of the examples in the minority class. That is, generate more synthetic examples in regions of the feature space where the density of minority examples is low, and fewer or none where the density is high."
      ],
      "metadata": {
        "id": "A3fPd_AxfbGL"
      }
    },
    {
      "cell_type": "code",
      "source": [
        "from imblearn.over_sampling import ADASYN\n",
        "\n",
        "X = dataset_df.drop([\"Class\",\"outliers\"],axis=1)\n",
        "y = dataset_df[\"Class\"]\n",
        "counter = Counter(y)\n",
        "print(counter)\n",
        "\n",
        "oversample = ADASYN()\n",
        "X, y = oversample.fit_resample(X, y)\n",
        "\n",
        "counter = Counter(y)\n",
        "print(counter)"
      ],
      "metadata": {
        "trusted": true,
        "id": "D_RosddQfbGL"
      },
      "execution_count": null,
      "outputs": []
    },
    {
      "cell_type": "code",
      "source": [
        "model = DecisionTreeClassifier()\n",
        "cv = RepeatedStratifiedKFold(n_splits=10, n_repeats=3, random_state=1)\n",
        "scores = cross_val_score(model, X, y, scoring='roc_auc', cv=cv, n_jobs=-1)\n",
        "\n",
        "print('Mean ROC AUC: %.3f' % np.mean(scores))"
      ],
      "metadata": {
        "trusted": true,
        "id": "RoUoj87JfbGM"
      },
      "execution_count": null,
      "outputs": []
    },
    {
      "cell_type": "code",
      "source": [
        "X = dataset_df.drop([\"Class\",\"outliers\"],axis=1)\n",
        "y = dataset_df[\"Class\"]\n",
        "over = ADASYN()\n",
        "steps = [('over', over), ('model', DecisionTreeClassifier())]\n",
        "pipeline = Pipeline(steps=steps)\n",
        "scores = cross_val_score(pipeline, X, y, scoring='accuracy', cv=cv, n_jobs=-1,error_score='raise')\n",
        "\n",
        "print('Mean Accuracy: %.3f' % (np.mean(scores)))"
      ],
      "metadata": {
        "trusted": true,
        "id": "683GG-RMfbGM"
      },
      "execution_count": null,
      "outputs": []
    },
    {
      "cell_type": "markdown",
      "source": [
        "<h3><center>2. Under Sampling Methods </center></h3>\n",
        "<div style=\"font-family:verdana; word-spacing:1.5px;\">\n",
        "    There are many different types of undersampling techniques, although most can be grouped into ,\n",
        "<ul>\n",
        "  <li>those that select examples to keep in the transformed dataset,\n",
        "  <li>those that select examples to delete,\n",
        "  <li>and hybrids that combine both types of methods.\n",
        "</ul>\n",
        "    \n",
        "<h3><center>2.1. Methods that Select Examples to Keep </center></h3>\n",
        "    <h3>2.1.1 Near Miss Undersampling</h3>\n",
        "    \n",
        "<ul>\n",
        "    <li>NearMiss-1: Majority class examples with minimum average distance to three closest minority class examples.\n",
        "    <li>NearMiss-2: Majority class examples with minimum average distance to three furthest minority class examples.\n",
        "    <li>NearMiss-3: Majority class examples with minimum distance to each minority class example.\n",
        "    </ul>\n",
        "    </div>"
      ],
      "metadata": {
        "id": "BfanE9WQfbGM"
      }
    },
    {
      "cell_type": "code",
      "source": [
        "from imblearn.under_sampling import NearMiss\n",
        "\n",
        "X = dataset_df.drop([\"Class\",\"outliers\"],axis=1)\n",
        "y = dataset_df[\"Class\"]\n",
        "counter = Counter(y)\n",
        "print(counter)\n",
        "\n",
        "undersample = NearMiss(version=1, n_neighbors=3)\n",
        "X, y = undersample.fit_resample(X, y)\n",
        "\n",
        "counter = Counter(y)\n",
        "print(counter)"
      ],
      "metadata": {
        "trusted": true,
        "id": "Y2haPfSOfbGM"
      },
      "execution_count": null,
      "outputs": []
    },
    {
      "cell_type": "code",
      "source": [
        "model = DecisionTreeClassifier()\n",
        "cv = RepeatedStratifiedKFold(n_splits=10, n_repeats=3, random_state=1)\n",
        "scores = cross_val_score(model, X, y, scoring='roc_auc', cv=cv, n_jobs=-1)\n",
        "\n",
        "print('Mean ROC AUC: %.3f' % np.mean(scores))"
      ],
      "metadata": {
        "trusted": true,
        "id": "uMaTqH3rfbGN"
      },
      "execution_count": null,
      "outputs": []
    },
    {
      "cell_type": "code",
      "source": [
        "X = dataset_df.drop([\"Class\",\"outliers\"],axis=1)\n",
        "y = dataset_df[\"Class\"]\n",
        "counter = Counter(y)\n",
        "print(counter)\n",
        "\n",
        "undersample = NearMiss(version=2, n_neighbors=3)\n",
        "X, y = undersample.fit_resample(X, y)\n",
        "\n",
        "counter = Counter(y)\n",
        "print(counter)"
      ],
      "metadata": {
        "trusted": true,
        "id": "vOdTJ5NWfbGN"
      },
      "execution_count": null,
      "outputs": []
    },
    {
      "cell_type": "code",
      "source": [
        "model = DecisionTreeClassifier()\n",
        "cv = RepeatedStratifiedKFold(n_splits=10, n_repeats=3, random_state=1)\n",
        "scores = cross_val_score(model, X, y, scoring='roc_auc', cv=cv, n_jobs=-1)\n",
        "\n",
        "print('Mean ROC AUC: %.3f' % np.mean(scores))"
      ],
      "metadata": {
        "trusted": true,
        "id": "FY49jhRifbGN"
      },
      "execution_count": null,
      "outputs": []
    },
    {
      "cell_type": "code",
      "source": [
        "X = dataset_df.drop([\"Class\",\"outliers\"],axis=1)\n",
        "y = dataset_df[\"Class\"]\n",
        "counter = Counter(y)\n",
        "print(counter)\n",
        "\n",
        "undersample = NearMiss(version=3, n_neighbors=3)\n",
        "X, y = undersample.fit_resample(X, y)\n",
        "\n",
        "counter = Counter(y)\n",
        "print(counter)"
      ],
      "metadata": {
        "trusted": true,
        "id": "tYQsw00ofbGN"
      },
      "execution_count": null,
      "outputs": []
    },
    {
      "cell_type": "code",
      "source": [
        "model = DecisionTreeClassifier()\n",
        "cv = RepeatedStratifiedKFold(n_splits=10, n_repeats=3, random_state=1)\n",
        "scores = cross_val_score(model, X, y, scoring='roc_auc', cv=cv, n_jobs=-1)\n",
        "\n",
        "print('Mean ROC AUC: %.3f' % np.mean(scores))"
      ],
      "metadata": {
        "trusted": true,
        "id": "vHr-Yuz9fbGN"
      },
      "execution_count": null,
      "outputs": []
    },
    {
      "cell_type": "markdown",
      "source": [
        "<div style=\"font-family:verdana; word-spacing:1.9px;\">\n",
        "<h3>2.1.2. Condensed Nearest Neighbor Rule Undersampling</h3>\n",
        "    Condensed Nearest Neighbors, or CNN for short, is an undersampling technique that seeks a subset of a collection of samples that results in no loss in model performance.<br><br>\n",
        "   It is achieved by enumerating the examples in the dataset and adding them to the store only if they cannot be classified correctly by the current contents of the store. This approach was proposed to reduce the memory requirements for the k-Nearest Neighbors (KNN) algorithm</div>"
      ],
      "metadata": {
        "id": "Eqeot4j6fbGN"
      }
    },
    {
      "cell_type": "code",
      "source": [
        "from imblearn.under_sampling import CondensedNearestNeighbour\n",
        "\n",
        "X = dataset_df.drop([\"Class\",\"outliers\"],axis=1)\n",
        "y = dataset_df[\"Class\"]\n",
        "counter = Counter(y)\n",
        "print(counter)\n",
        "\n",
        "undersample = CondensedNearestNeighbour(n_neighbors=1)\n",
        "X, y = undersample.fit_resample(X, y)\n",
        "\n",
        "counter = Counter(y)\n",
        "print(counter)"
      ],
      "metadata": {
        "trusted": true,
        "id": "RaQ_BGctfbGN"
      },
      "execution_count": null,
      "outputs": []
    },
    {
      "cell_type": "code",
      "source": [
        "model = DecisionTreeClassifier()\n",
        "cv = RepeatedStratifiedKFold(n_splits=10, n_repeats=3, random_state=1)\n",
        "scores = cross_val_score(model, X, y, scoring='roc_auc', cv=cv, n_jobs=-1)\n",
        "\n",
        "print('Mean ROC AUC: %.3f' % np.mean(scores))"
      ],
      "metadata": {
        "trusted": true,
        "id": "KML_4NkGfbGO"
      },
      "execution_count": null,
      "outputs": []
    },
    {
      "cell_type": "markdown",
      "source": [
        "<div style=\"font-family:verdana; word-spacing:1.9px;\">\n",
        "<h3><center>2.2. Methods that Select Examples to Delete </center></h3>\n",
        "    <h3>2.2.1. Tomek Links for Undersampling</h3>\n",
        "    The condensed nearest-neighbor (CNN) method chooses samples randomly. <br>This results in <ul>\n",
        "    <li> retention of unnecessary samples\n",
        "    <li>occasional retention of internal rather than boundary samples.</ul>\n",
        "    The procedure for finding Tomek Links can be used to locate all cross-class nearest neighbors.\n",
        "    It can be used to find all of those examples in the majority class that are closest to the minority class, then removed. These would be the ambiguous examples.<br>\n",
        "    Instances that are in Tomek Links are either boundary instances or noisy instances.\n",
        "    </div>"
      ],
      "metadata": {
        "id": "k_vldeW4fbGO"
      }
    },
    {
      "cell_type": "code",
      "source": [
        "from imblearn.under_sampling import TomekLinks\n",
        "\n",
        "X = dataset_df.drop([\"Class\",\"outliers\"],axis=1)\n",
        "y = dataset_df[\"Class\"]\n",
        "counter = Counter(y)\n",
        "print(counter)\n",
        "\n",
        "undersample = TomekLinks(sampling_strategy ='not minority')\n",
        "X, y = undersample.fit_resample(X, y)\n",
        "\n",
        "counter = Counter(y)\n",
        "print(counter)"
      ],
      "metadata": {
        "trusted": true,
        "id": "2gRVua60fbGO"
      },
      "execution_count": null,
      "outputs": []
    },
    {
      "cell_type": "code",
      "source": [
        "model = DecisionTreeClassifier()\n",
        "cv = RepeatedStratifiedKFold(n_splits=10, n_repeats=3, random_state=1)\n",
        "scores = cross_val_score(model, X, y, scoring='roc_auc', cv=cv, n_jobs=-1)\n",
        "\n",
        "print('Mean ROC AUC: %.3f' % np.mean(scores))"
      ],
      "metadata": {
        "trusted": true,
        "id": "G9X8dzMVfbGP"
      },
      "execution_count": null,
      "outputs": []
    },
    {
      "cell_type": "markdown",
      "source": [
        "<div style=\"font-family:verdana; word-spacing:1.9px;\">\n",
        "<h3>2.2.2. Edited Nearest Neighbors Rule for Undersampling</h3>Another rule for finding ambiguous and noisy examples in a dataset is called Edited Nearest Neighbors, or sometimes ENN for short.<br> This rule involves using k = 3 nearest neighbors to locate those examples in a dataset that are misclassified and that are then removed before a k = 1 classification rule is applied.</div>"
      ],
      "metadata": {
        "id": "Qsko6oFIfbGP"
      }
    },
    {
      "cell_type": "code",
      "source": [
        "from imblearn.under_sampling import EditedNearestNeighbours\n",
        "\n",
        "X = dataset_df.drop([\"Class\",\"outliers\"],axis=1)\n",
        "y = dataset_df[\"Class\"]\n",
        "counter = Counter(y)\n",
        "print(counter)\n",
        "\n",
        "undersample = EditedNearestNeighbours(n_neighbors=3)\n",
        "X, y = undersample.fit_resample(X, y)\n",
        "\n",
        "counter = Counter(y)\n",
        "print(counter)"
      ],
      "metadata": {
        "trusted": true,
        "id": "WreDSTrCfbGP"
      },
      "execution_count": null,
      "outputs": []
    },
    {
      "cell_type": "code",
      "source": [
        "model = DecisionTreeClassifier()\n",
        "cv = RepeatedStratifiedKFold(n_splits=10, n_repeats=3, random_state=1)\n",
        "scores = cross_val_score(model, X, y, scoring='roc_auc', cv=cv, n_jobs=-1)\n",
        "\n",
        "print('Mean ROC AUC: %.3f' % np.mean(scores))"
      ],
      "metadata": {
        "trusted": true,
        "id": "Fj0DzzHjfbGP"
      },
      "execution_count": null,
      "outputs": []
    },
    {
      "cell_type": "markdown",
      "source": [
        "<div style=\"font-family:verdana; word-spacing:1.9px;\">\n",
        "<h3><center>2.2. Combinations of Keep and Delete Methods </center></h3>\n",
        "    <h3>2.2.1. One-Sided Selection for Undersampling</h3>\n",
        "    One-Sided Selection, or OSS for short, is an undersampling technique that combines Tomek Links and the Condensed Nearest Neighbor (CNN) Rule. <br>Specifically, Tomek Links are ambiguous points on the class boundary and are identified and removed in the majority class. The CNN method is then used to remove redundant examples from the majority class that are far from the decision boundary."
      ],
      "metadata": {
        "id": "Xefa-2yrfbGP"
      }
    },
    {
      "cell_type": "code",
      "source": [
        "from imblearn.under_sampling import OneSidedSelection\n",
        "\n",
        "undersample = OneSidedSelection(n_neighbors=1, n_seeds_S=200)\n",
        "\n",
        "X = dataset_df.drop([\"Class\",\"outliers\"],axis=1)\n",
        "y = dataset_df[\"Class\"]\n",
        "counter = Counter(y)\n",
        "print(counter)\n",
        "\n",
        "X, y = undersample.fit_resample(X, y)\n",
        "\n",
        "counter = Counter(y)\n",
        "print(counter)"
      ],
      "metadata": {
        "trusted": true,
        "id": "ipaESn1rfbGQ"
      },
      "execution_count": null,
      "outputs": []
    },
    {
      "cell_type": "code",
      "source": [
        "model = DecisionTreeClassifier()\n",
        "cv = RepeatedStratifiedKFold(n_splits=10, n_repeats=3, random_state=1)\n",
        "scores = cross_val_score(model, X, y, scoring='roc_auc', cv=cv, n_jobs=-1)\n",
        "\n",
        "print('Mean ROC AUC: %.3f' % np.mean(scores))"
      ],
      "metadata": {
        "trusted": true,
        "id": "hO7wwrqufbGQ"
      },
      "execution_count": null,
      "outputs": []
    },
    {
      "cell_type": "markdown",
      "source": [
        "<div style=\"font-family:verdana; word-spacing:1.9px;\">\n",
        "<h3>2.2.1. Neighborhood Cleaning Rule for Undersampling</h3>\n",
        "\n",
        "The Neighborhood Cleaning Rule, or NCR for short, is an undersampling technique that combines both the Condensed Nearest Neighbor (CNN) Rule to remove redundant examples and the Edited Nearest Neighbors (ENN) Rule to remove noisy or ambiguous examples.<br>"
      ],
      "metadata": {
        "id": "6sNkr54efbGQ"
      }
    },
    {
      "cell_type": "code",
      "source": [
        "from imblearn.under_sampling import NeighbourhoodCleaningRule\n",
        "\n",
        "undersample = NeighbourhoodCleaningRule(n_neighbors=1, threshold_cleaning=0.5)\n",
        "\n",
        "X = dataset_df.drop([\"Class\",\"outliers\"],axis=1)\n",
        "y = dataset_df[\"Class\"]\n",
        "counter = Counter(y)\n",
        "print(counter)\n",
        "\n",
        "X, y = undersample.fit_resample(X, y)\n",
        "\n",
        "counter = Counter(y)\n",
        "print(counter)"
      ],
      "metadata": {
        "trusted": true,
        "id": "Sw-Jl2gcfbGQ"
      },
      "execution_count": null,
      "outputs": []
    },
    {
      "cell_type": "code",
      "source": [
        "model = DecisionTreeClassifier()\n",
        "cv = RepeatedStratifiedKFold(n_splits=10, n_repeats=3, random_state=1)\n",
        "scores = cross_val_score(model, X, y, scoring='roc_auc', cv=cv, n_jobs=-1)\n",
        "\n",
        "print('Mean ROC AUC: %.3f' % np.mean(scores))"
      ],
      "metadata": {
        "trusted": true,
        "id": "d7VL8pa0fbGQ"
      },
      "execution_count": null,
      "outputs": []
    },
    {
      "cell_type": "markdown",
      "source": [
        "<div style=\"font-family:verdana; word-spacing:1.9px; font-size:15px\">\n",
        "<h3><center>3. Oversampling and Undersampling </center></h3>\n",
        "    Oversampling methods duplicate or create new synthetic examples in the minority class, whereas undersampling methods delete examples in the majority class.<br> Both types of sampling can be effective when used in isolation, although can be more effective when both types of methods are used together.<br><br>\n",
        "    <h3>3.1. Random Oversampling and Undersampling</h3>\n",
        "    Random oversampling involves randomly duplicating examples in the minority class, whereas random undersampling involves randomly deleting examples from the majority class.<br>\n",
        "As these two transforms are performed on separate classes, the order in which they are applied to the training dataset does not matter."
      ],
      "metadata": {
        "id": "US0uBFM5fbGR"
      }
    },
    {
      "cell_type": "code",
      "source": [
        "# define model\n",
        "model = DecisionTreeClassifier()\n",
        "cv = RepeatedStratifiedKFold(n_splits=10, n_repeats=3, random_state=1)\n",
        "scores = cross_val_score(model, X, y, scoring='roc_auc', cv=cv, n_jobs=-1)\n",
        "\n",
        "print('Mean ROC AUC: %.3f' % np.mean(scores))"
      ],
      "metadata": {
        "trusted": true,
        "id": "gbwmIsE5fbGR"
      },
      "execution_count": null,
      "outputs": []
    },
    {
      "cell_type": "code",
      "source": [
        "from imblearn.over_sampling import RandomOverSampler\n",
        "from imblearn.under_sampling import RandomUnderSampler\n",
        "\n",
        "def run_model(pipeline):\n",
        "    X = dataset_df.drop([\"Class\",\"outliers\"],axis=1)\n",
        "    y = dataset_df[\"Class\"]\n",
        "    model = DecisionTreeClassifier()\n",
        "\n",
        "    cv = RepeatedStratifiedKFold(n_splits=10, n_repeats=3, random_state=1)\n",
        "    scores = cross_val_score(pipeline, X, y, scoring='roc_auc', cv=cv, n_jobs=-1)\n",
        "\n",
        "    print('Mean ROC AUC: %.3f' % np.mean(scores))"
      ],
      "metadata": {
        "trusted": true,
        "id": "YJF5N1jlfbGR"
      },
      "execution_count": null,
      "outputs": []
    },
    {
      "cell_type": "code",
      "source": [
        "over = RandomOverSampler(sampling_strategy=0.5)\n",
        "under = RandomUnderSampler(sampling_strategy=0.5)\n",
        "\n",
        "steps = [('over',over), ('under', under), ('model', model)]\n",
        "pipeline = Pipeline(steps=steps)\n",
        "\n",
        "run_model(pipeline)"
      ],
      "metadata": {
        "trusted": true,
        "id": "82VGKWRgfbGR"
      },
      "execution_count": null,
      "outputs": []
    },
    {
      "cell_type": "code",
      "source": [
        "from imblearn.over_sampling import SMOTE\n",
        "\n",
        "over = SMOTE(sampling_strategy=0.4)\n",
        "under = RandomUnderSampler(sampling_strategy=0.5)\n",
        "\n",
        "steps = [('over',over), ('under', under), ('model', model)]\n",
        "pipeline = Pipeline(steps=steps)\n",
        "\n",
        "run_model(pipeline)"
      ],
      "metadata": {
        "trusted": true,
        "id": "o9BwtZZTfbGR"
      },
      "execution_count": null,
      "outputs": []
    },
    {
      "cell_type": "markdown",
      "source": [
        "<div style=\"font-family:verdana; word-spacing:1.9px; font-size:14px\">\n",
        "<h3><center>3.3 Standard Combined Data Sampling Methods </center></h3>\n",
        "    <h3>3.3.1. SMOTE and Tomek Links Undersampling</h3>\n",
        "    The SMOTE configuration can be set via the smote argument and takes a configured SMOTE instance. The Tomek Links configuration can be set via the tomek argument and takes a configured TomekLinks object.<br> Both arguments are set to instances of each class with default configurations. The default is to balance the dataset with SMOTE then remove Tomek links from all classes."
      ],
      "metadata": {
        "id": "aFzVoYG2fbGR"
      }
    },
    {
      "cell_type": "code",
      "source": [
        "from imblearn.combine import SMOTETomek\n",
        "from imblearn.under_sampling import TomekLinks\n",
        "\n",
        "resample = SMOTETomek(tomek=TomekLinks(sampling_strategy='majority'))\n",
        "\n",
        "# define pipeline\n",
        "pipeline = Pipeline(steps=[('r', resample), ('m', model)])\n",
        "\n",
        "run_model(pipeline)"
      ],
      "metadata": {
        "trusted": true,
        "id": "vCOymUYofbGR"
      },
      "execution_count": null,
      "outputs": []
    },
    {
      "cell_type": "markdown",
      "source": [
        "<div style=\"font-family:verdana; word-spacing:1.9px; font-size:15px\">\n",
        "<h3>3.3.2. SMOTE and Edited Nearest Neighbors Undersampling</h3>"
      ],
      "metadata": {
        "id": "R-2qSe6xfbGS"
      }
    },
    {
      "cell_type": "code",
      "source": [
        "from imblearn.combine import SMOTEENN\n",
        "\n",
        "resample = SMOTEENN()\n",
        "# define pipeline\n",
        "pipeline = Pipeline(steps=[('r', resample), ('m', model)])\n",
        "\n",
        "run_model(pipeline)"
      ],
      "metadata": {
        "trusted": true,
        "id": "K52ooVYrfbGS"
      },
      "execution_count": null,
      "outputs": []
    },
    {
      "cell_type": "markdown",
      "source": [
        "## Other Methods"
      ],
      "metadata": {
        "id": "4OmLwKcQfbGS"
      }
    },
    {
      "cell_type": "code",
      "source": [
        "from imblearn.combine import SMOTETomek\n",
        "X = dataset_df.drop([\"Class\",\"outliers\"],axis=1)\n",
        "y = dataset_df[\"Class\"]\n",
        "smt = SMOTETomek(random_state=42)\n",
        "X_res, y_res = smt.fit_resample(X, y)\n",
        "model = DecisionTreeClassifier()\n",
        "\n",
        "cv = RepeatedStratifiedKFold(n_splits=10, n_repeats=3, random_state=1)\n",
        "scores = cross_val_score(model, X_res, y_res, scoring='roc_auc', cv=cv, n_jobs=-1)\n",
        "\n",
        "print('Mean ROC AUC: %.3f' % np.mean(scores))"
      ],
      "metadata": {
        "trusted": true,
        "id": "3oeOB-CJfbGS"
      },
      "execution_count": null,
      "outputs": []
    },
    {
      "cell_type": "code",
      "source": [
        "from imblearn.combine import SMOTEENN\n",
        "X = dataset_df.drop([\"Class\",\"outliers\"],axis=1)\n",
        "y = dataset_df[\"Class\"]\n",
        "sme = SMOTEENN(random_state=42)\n",
        "X_res, y_res = sme.fit_resample(X, y)\n",
        "model = DecisionTreeClassifier()\n",
        "\n",
        "cv = RepeatedStratifiedKFold(n_splits=10, n_repeats=3, random_state=1)\n",
        "scores = cross_val_score(model, X_res, y_res, scoring='roc_auc', cv=cv, n_jobs=-1)\n",
        "\n",
        "print('Mean ROC AUC: %.3f' % np.mean(scores))"
      ],
      "metadata": {
        "trusted": true,
        "id": "E31DN50JfbGS"
      },
      "execution_count": null,
      "outputs": []
    },
    {
      "cell_type": "markdown",
      "source": [
        "from imblearn.ensemble import BalancedRandomForestClassifier\n"
      ],
      "metadata": {
        "id": "b7N1ULaMfbGS"
      }
    },
    {
      "cell_type": "code",
      "source": [
        "from imblearn.ensemble import BalancedRandomForestClassifier\n",
        "\n",
        "X = dataset_df.drop([\"Class\",\"outliers\"],axis=1)\n",
        "y = dataset_df[\"Class\"]\n",
        "sme = SMOTEENN(random_state=42)\n",
        "X_res, y_res = sme.fit_resample(X, y)\n",
        "clf = BalancedRandomForestClassifier(\n",
        "    sampling_strategy=\"all\", replacement=True, max_depth=3, random_state=0,\n",
        "    bootstrap=False)\n",
        "cv = RepeatedStratifiedKFold(n_splits=10, n_repeats=3, random_state=1)\n",
        "scores = cross_val_score(clf, X_res, y_res, scoring='roc_auc', cv=cv, n_jobs=-1)\n",
        "\n",
        "print('Mean ROC AUC: %.3f' % np.mean(scores))"
      ],
      "metadata": {
        "trusted": true,
        "id": "SLGZl11xfbGS"
      },
      "execution_count": null,
      "outputs": []
    },
    {
      "cell_type": "code",
      "source": [
        "X = dataset_df.drop([\"Class\",\"outliers\"],axis=1)\n",
        "y = dataset_df[\"Class\"]\n",
        "sme = SMOTEENN(random_state=42)\n",
        "X_res, y_res = sme.fit_resample(X, y)\n",
        "clf = BalancedRandomForestClassifier(\n",
        "    sampling_strategy=\"all\", replacement=True, max_depth=3, random_state=0,\n",
        "    bootstrap=False)\n",
        "cv = RepeatedStratifiedKFold(n_splits=10, n_repeats=3, random_state=1)\n",
        "scores = cross_val_score(clf, X_res, y_res, scoring='accuracy', cv=cv, n_jobs=-1)\n",
        "\n",
        "print('Mean Accuracy: %.3f' % np.mean(scores))"
      ],
      "metadata": {
        "trusted": true,
        "id": "2Z4oFE9RfbGT"
      },
      "execution_count": null,
      "outputs": []
    },
    {
      "cell_type": "markdown",
      "source": [
        "# Hyper Parameter Tuning\n",
        "\n",
        "- Random Search\n",
        "- Grid Search\n",
        "- Halving\n",
        ">- Grid Search\n",
        ">- Randomized Search\n",
        "- Automated Hyperparameter tuning\n",
        ">- Bayesian Optimization\n",
        ">- Genetic Algorithms\n",
        "- Artificial Neural Networks Tuning\n",
        "- HyperOpt-Sklearn\n",
        "- Bayes Search"
      ],
      "metadata": {
        "id": "lhDDGhWAfbGT"
      }
    },
    {
      "cell_type": "code",
      "source": [
        "from sklearn.model_selection import RandomizedSearchCV\n",
        "from scipy.stats import randint as sp_randint\n",
        "X = dataset_df.drop([\"Class\",\"outliers\"],axis=1)\n",
        "y = dataset_df[\"Class\"]\n",
        "sme = SMOTEENN(random_state=42)\n",
        "X_res, y_res = sme.fit_resample(X, y)\n",
        "param_dist = {\"n_estimators\": [100,200,300,500,1000],\n",
        "               \"max_depth\": [3,5, None],\n",
        "              \"max_features\": sp_randint(1, 15),\n",
        "              \"min_samples_split\": sp_randint(2, 15),\n",
        "              \"min_samples_leaf\": sp_randint(1, 15),\n",
        "              \"bootstrap\": [True, False],\n",
        "              \"criterion\": [\"gini\", \"entropy\"]}"
      ],
      "metadata": {
        "trusted": true,
        "id": "0A48vgb0fbGU"
      },
      "execution_count": null,
      "outputs": []
    },
    {
      "cell_type": "code",
      "source": [
        "clf = BalancedRandomForestClassifier(sampling_strategy=\"all\", replacement=True, max_depth=3, random_state=0,bootstrap=False)\n",
        "samples = 8\n",
        "randomCV = RandomizedSearchCV(clf, param_distributions=param_dist, n_iter=samples,cv=cv)\n",
        "randomCV.fit(X, y)\n",
        "print(randomCV.best_params_)\n",
        "randomCV.cv_results_['mean_test_score']"
      ],
      "metadata": {
        "trusted": true,
        "id": "vdJoVRMJfbGU"
      },
      "execution_count": null,
      "outputs": []
    },
    {
      "cell_type": "code",
      "source": [
        "X = dataset_df.drop([\"Class\",\"outliers\"],axis=1)\n",
        "y = dataset_df[\"Class\"]\n",
        "sme = SMOTEENN(random_state=42)\n",
        "X_res, y_res = sme.fit_resample(X, y)"
      ],
      "metadata": {
        "trusted": true,
        "id": "rGG0jRj4fbGU"
      },
      "execution_count": null,
      "outputs": []
    },
    {
      "cell_type": "code",
      "source": [
        "from sklearn.model_selection import train_test_split\n",
        "X_train, X_test, y_train, y_test = train_test_split(X_res, y_res, test_size=0.20, shuffle=True)"
      ],
      "metadata": {
        "trusted": true,
        "id": "tYD3DA2BfbGU"
      },
      "execution_count": null,
      "outputs": []
    },
    {
      "cell_type": "code",
      "source": [
        "param_dist = {\"n_estimators\": [100,200,300,500,1000],\n",
        "               \"max_depth\": [2,3,4,5,6, None],\n",
        "              \"max_features\": sp_randint(1, 15),\n",
        "              \"min_samples_split\": sp_randint(2, 15),\n",
        "              \"min_samples_leaf\": sp_randint(1, 15),\n",
        "              \"bootstrap\": [True, False],\n",
        "              \"criterion\": [\"gini\", \"entropy\"]}\n",
        "clf = BalancedRandomForestClassifier(sampling_strategy=\"all\", replacement=True, max_depth=3, random_state=0,bootstrap=False)\n",
        "samples = 8\n",
        "randomCV = RandomizedSearchCV(clf, param_distributions=param_dist, n_iter=samples,cv=cv)\n",
        "randomCV.fit(X_train, y_train)\n",
        "print(randomCV.best_params_)\n",
        "randomCV.cv_results_['mean_test_score']"
      ],
      "metadata": {
        "trusted": true,
        "id": "dSq62PpNfbGV"
      },
      "execution_count": null,
      "outputs": []
    },
    {
      "cell_type": "code",
      "source": [
        "clf=BalancedRandomForestClassifier(sampling_strategy=\"all\", criterion = 'entropy', replacement=True, max_depth=None, max_features = 3, random_state=0, min_samples_leaf =11,min_samples_split =3, n_estimators =300, bootstrap=False)"
      ],
      "metadata": {
        "trusted": true,
        "id": "CRgoIQjTfbGV"
      },
      "execution_count": null,
      "outputs": []
    },
    {
      "cell_type": "code",
      "source": [
        "clf.fit(X_train, y_train)"
      ],
      "metadata": {
        "trusted": true,
        "id": "okDW-5zGfbGW"
      },
      "execution_count": null,
      "outputs": []
    },
    {
      "cell_type": "code",
      "source": [
        "y_pred = clf.predict(X_test)\n",
        "cm = confusion_matrix(y_test, y_pred)\n",
        "cm"
      ],
      "metadata": {
        "trusted": true,
        "id": "xsMge_GKfbGW"
      },
      "execution_count": null,
      "outputs": []
    },
    {
      "cell_type": "code",
      "source": [
        "from sklearn.metrics import accuracy_score\n",
        "accuracy_score(y_test, y_pred)"
      ],
      "metadata": {
        "trusted": true,
        "id": "sdcpxIySfbGW"
      },
      "execution_count": null,
      "outputs": []
    },
    {
      "cell_type": "code",
      "source": [
        "from sklearn.metrics import classification_report\n",
        "target_names = ['class 0', 'class 1']\n",
        "print(classification_report(y_test, y_pred, target_names=target_names))"
      ],
      "metadata": {
        "trusted": true,
        "id": "pWwNznM6fbGW"
      },
      "execution_count": null,
      "outputs": []
    },
    {
      "cell_type": "markdown",
      "source": [
        "#"
      ],
      "metadata": {
        "id": "Y6uSY09afbGW"
      }
    },
    {
      "cell_type": "markdown",
      "source": [
        "# LIGHTGBM"
      ],
      "metadata": {
        "id": "kc62CPC0fbGW"
      }
    },
    {
      "cell_type": "code",
      "source": [
        "import lightgbm as lgb\n",
        "import xgboost as xgb\n",
        "from catboost import CatBoostClassifier"
      ],
      "metadata": {
        "trusted": true,
        "id": "kh9fb0cZfbGW"
      },
      "execution_count": null,
      "outputs": []
    },
    {
      "cell_type": "code",
      "source": [
        "X = dataset_df.drop([\"Class\",\"outliers\"],axis=1)\n",
        "y = dataset_df[\"Class\"]\n",
        "sme = SMOTEENN(random_state=42)\n",
        "X_res, y_res = sme.fit_resample(X, y)"
      ],
      "metadata": {
        "trusted": true,
        "id": "W7hjmp7TfbGW"
      },
      "execution_count": null,
      "outputs": []
    },
    {
      "cell_type": "code",
      "source": [
        "from sklearn.model_selection import train_test_split\n",
        "X_train, X_test, y_train, y_test = train_test_split(X_res, y_res, test_size=0.20, shuffle=True)"
      ],
      "metadata": {
        "trusted": true,
        "id": "2PiwSto4fbGW"
      },
      "execution_count": null,
      "outputs": []
    },
    {
      "cell_type": "code",
      "source": [
        "def run_lgb(train_X, train_y, val_X, val_y, test_X):\n",
        "    params = {\n",
        "        \"objective\" : \"regression\",\n",
        "        \"metric\" : \"rmse\",\n",
        "        \"num_leaves\" : 40,\n",
        "        \"learning_rate\" : 0.004,\n",
        "        \"bagging_fraction\" : 0.6,\n",
        "        \"feature_fraction\" : 0.6,\n",
        "        \"bagging_frequency\" : 6,\n",
        "        \"bagging_seed\" : 42,\n",
        "        \"verbosity\" : -1,\n",
        "        \"seed\": 42\n",
        "    }\n",
        "\n",
        "    lgtrain = lgb.Dataset(train_X, label=train_y)\n",
        "    lgval = lgb.Dataset(val_X, label=val_y)\n",
        "    evals_result = {}\n",
        "    model = lgb.train(params, lgtrain, 5000,\n",
        "                      valid_sets=[lgtrain, lgval],\n",
        "                      #early_stopping_rounds=100,\n",
        "                      #verbose=150, eval_result=evals_result\n",
        "                      )\n",
        "\n",
        "    pred_test_y = (model.predict(test_X, num_iteration=model.best_iteration))\n",
        "    return pred_test_y, model, evals_result"
      ],
      "metadata": {
        "trusted": true,
        "id": "EmWGEqo0fbGX"
      },
      "execution_count": null,
      "outputs": []
    },
    {
      "cell_type": "code",
      "source": [
        "type(pred_test)"
      ],
      "metadata": {
        "trusted": true,
        "id": "LV_wjPqqfbGX"
      },
      "execution_count": null,
      "outputs": []
    },
    {
      "cell_type": "code",
      "source": [
        "# Training LGB\n",
        "#X_train, X_test, y_train, y_test\n",
        "pred_test, model, evals_result = run_lgb(X_train, y_train, X_test, y_test, X_test)\n",
        "print(\"LightGBM Training Completed...\")"
      ],
      "metadata": {
        "trusted": true,
        "id": "f55p1cFofbGX"
      },
      "execution_count": null,
      "outputs": []
    },
    {
      "cell_type": "code",
      "source": [
        "pred_test = pred_test.astype(int)"
      ],
      "metadata": {
        "trusted": true,
        "id": "2FHFcnoGfbGX"
      },
      "execution_count": null,
      "outputs": []
    },
    {
      "cell_type": "code",
      "source": [
        "cm = confusion_matrix(y_test, pred_test)\n",
        "cm"
      ],
      "metadata": {
        "trusted": true,
        "id": "0yyzQ5wDfbGX"
      },
      "execution_count": null,
      "outputs": []
    },
    {
      "cell_type": "code",
      "source": [
        "accuracy_score(y_test, pred_test)"
      ],
      "metadata": {
        "trusted": true,
        "id": "yaTxv3qsfbGX"
      },
      "execution_count": null,
      "outputs": []
    },
    {
      "cell_type": "code",
      "source": [
        "from sklearn.metrics import classification_report\n",
        "target_names = ['class 0', 'class 1']\n",
        "print(classification_report(y_test, pred_test, target_names=target_names))"
      ],
      "metadata": {
        "trusted": true,
        "id": "2z4oaHdKfbGX"
      },
      "execution_count": null,
      "outputs": []
    },
    {
      "cell_type": "markdown",
      "source": [
        "# XGB Modeling"
      ],
      "metadata": {
        "id": "WYiIBS-RfbGY"
      }
    },
    {
      "cell_type": "code",
      "source": [
        "def run_xgb(train_X, train_y, val_X, val_y, test_X):\n",
        "    params = {'objective': 'binary:logistic',\n",
        "              \"num_class\": 2,\n",
        "              'tree_method': 'exact',\n",
        "              'eval_metric': 'accuracy',\n",
        "\n",
        "              'max_depth': 10,\n",
        "\n",
        "              'random_state': 42,\n",
        "              'silent': True}\n",
        "\n",
        "    num_boost_round = 5000\n",
        "\n",
        "    dtrain = xgb.DMatrix(label=train_y, data=train_X)\n",
        "    dvalid = xgb.DMatrix(label=val_y, data=val_X)\n",
        "    model = xgb.train(params=params, dtrain=dtrain, num_boost_round=num_boost_round,\n",
        "                  evals=[(dtrain, 'train'), (dvalid, 'valid')],\n",
        "                  verbose_eval=10)\n",
        "\n",
        "    #tr_data = xgb.DMatrix(train_X, train_y,enable_categorical=True)\n",
        "    #va_data = xgb.DMatrix(val_X, val_y,enable_categorical=True)\n",
        "\n",
        "    #watchlist = [(tr_data, 'train'), (va_data, 'valid')]\n",
        "\n",
        "    #model_xgb = xgb.train(params, tr_data, 2000, watchlist, maximize=False, early_stopping_rounds = 100, verbose_eval=100)\n",
        "\n",
        "    dtest = xgb.DMatrix(test_X)\n",
        "    xgb_pred_y = np.expm1(model.predict(dtest, ntree_limit=model_xgb.best_ntree_limit))\n",
        "\n",
        "    return xgb_pred_y, model_xgb\n"
      ],
      "metadata": {
        "trusted": true,
        "id": "SbQ4pDuTfbGY"
      },
      "execution_count": null,
      "outputs": []
    },
    {
      "cell_type": "code",
      "source": [
        "# Training XGB\n",
        "pred_test_xgb, model_xgb = run_xgb(X_train, y_train, X_test, y_test, X_test)\n",
        "print(\"XGB Training Completed...\")"
      ],
      "metadata": {
        "trusted": true,
        "id": "HXdKuWTIfbGY"
      },
      "execution_count": null,
      "outputs": []
    }
  ]
}